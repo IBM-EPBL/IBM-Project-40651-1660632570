{
  "nbformat": 4,
  "nbformat_minor": 0,
  "metadata": {
    "colab": {
      "provenance": []
    },
    "kernelspec": {
      "name": "python3",
      "display_name": "Python 3"
    },
    "language_info": {
      "name": "python"
    }
  },
  "cells": [
    {
      "cell_type": "markdown",
      "source": [
        "SPRINT-1: Data Collection & Image Processing"
      ],
      "metadata": {
        "id": "v_poN1LDtrnV"
      }
    },
    {
      "cell_type": "code",
      "execution_count": 1,
      "metadata": {
        "colab": {
          "base_uri": "https://localhost:8080/"
        },
        "id": "KE7aHZ4ntfnL",
        "outputId": "06bb1015-072e-4903-a24f-7880c419f74c"
      },
      "outputs": [
        {
          "output_type": "stream",
          "name": "stdout",
          "text": [
            "\u001b[0m\u001b[01;34msample_data\u001b[0m/\n"
          ]
        }
      ],
      "source": [
        "ls"
      ]
    },
    {
      "cell_type": "code",
      "source": [
        "cd /content/drive/MyDrive/dataset"
      ],
      "metadata": {
        "id": "l-xwJW0nzGq9"
      },
      "execution_count": null,
      "outputs": []
    },
    {
      "cell_type": "markdown",
      "source": [],
      "metadata": {
        "id": "3Bfsd9mlzKrM"
      }
    },
    {
      "cell_type": "code",
      "source": [
        "pwd"
      ],
      "metadata": {
        "colab": {
          "base_uri": "https://localhost:8080/",
          "height": 36
        },
        "id": "6l_j-I_n0wKE",
        "outputId": "39652027-9420-4e72-f9fe-6f1122c038e3"
      },
      "execution_count": 5,
      "outputs": [
        {
          "output_type": "execute_result",
          "data": {
            "text/plain": [
              "'/content'"
            ],
            "application/vnd.google.colaboratory.intrinsic+json": {
              "type": "string"
            }
          },
          "metadata": {},
          "execution_count": 5
        }
      ]
    },
    {
      "cell_type": "code",
      "source": [
        "!unzip TRAIN_SET.zip"
      ],
      "metadata": {
        "id": "Ufo0jjFC1HkJ"
      },
      "execution_count": null,
      "outputs": []
    },
    {
      "cell_type": "code",
      "source": [],
      "metadata": {
        "id": "ACpMnc891d83"
      },
      "execution_count": null,
      "outputs": []
    },
    {
      "cell_type": "markdown",
      "source": [
        "Importing and configuring the Image data generator library from Keras"
      ],
      "metadata": {
        "id": "cS36-xcR1gbv"
      }
    },
    {
      "cell_type": "code",
      "source": [
        "from tensorflow.keras.preprocessing.image import ImageDataGenerator#scaling,zooming"
      ],
      "metadata": {
        "id": "p7iVJTcE1kCf"
      },
      "execution_count": 7,
      "outputs": []
    },
    {
      "cell_type": "code",
      "source": [
        "train_datagen=ImageDataGenerator(rescale=1./255,zoom_range=0.2,shear_range=0.2,horizontal_flip=True,vertical_flip=True)"
      ],
      "metadata": {
        "id": "IXJu42Zn18FY"
      },
      "execution_count": 9,
      "outputs": []
    },
    {
      "cell_type": "code",
      "source": [
        "test_datagen=ImageDataGenerator(rescale=1./255)"
      ],
      "metadata": {
        "id": "ktE7rDer2EMg"
      },
      "execution_count": 10,
      "outputs": []
    },
    {
      "cell_type": "markdown",
      "source": [
        "Applying Image data generator functionality to training set and testing set"
      ],
      "metadata": {
        "id": "wEW_AFgo2HWQ"
      }
    },
    {
      "cell_type": "code",
      "source": [
        "x_train=train_datagen.flow_from_directory(r\"/content/drive/MyDrive/dataset/TRAIN_SET\",target_size=(64,64),color_mode='rgb',class_mode=\"sparse\",batch_size=5)\n"
      ],
      "metadata": {
        "id": "lzgYg_YF3HUs"
      },
      "execution_count": null,
      "outputs": []
    },
    {
      "cell_type": "markdown",
      "source": [
        "Found 2626 images belonging to 5 classes."
      ],
      "metadata": {
        "id": "6lYmza2I23tf"
      }
    },
    {
      "cell_type": "code",
      "source": [
        "x_test=test_datagen.flow_from_directory(r\"/content/drive/MyDrive/dataset/TEST_SET\",target_size=(64,64),color_mode='rgb',class_mode=\"sparse\",batch_size=5)\n"
      ],
      "metadata": {
        "id": "qJeJhdNH3ON8"
      },
      "execution_count": null,
      "outputs": []
    },
    {
      "cell_type": "markdown",
      "source": [
        "Found 1055 images belonging to 5 classes."
      ],
      "metadata": {
        "id": "ANnlLv5A3R-Y"
      }
    },
    {
      "cell_type": "code",
      "source": [
        "x_train.class_indices"
      ],
      "metadata": {
        "id": "C3Bm1VTO3ZnE"
      },
      "execution_count": null,
      "outputs": []
    },
    {
      "cell_type": "markdown",
      "source": [
        "{'APPLES': 0, 'BANANA': 1, 'ORANGE': 2, 'PINEAPPLE': 3, 'WATERMELON': 4}"
      ],
      "metadata": {
        "id": "T3gsgsqY3gGM"
      }
    },
    {
      "cell_type": "code",
      "source": [
        "x_test.class_indices"
      ],
      "metadata": {
        "id": "M00hoC-r3pN7"
      },
      "execution_count": null,
      "outputs": []
    },
    {
      "cell_type": "markdown",
      "source": [
        "{'APPLES': 0, 'BANANA': 1, 'ORANGE': 2, 'PINEAPPLE': 3, 'WATERMELON': 4}"
      ],
      "metadata": {
        "id": "5MjfFOFM3tvs"
      }
    },
    {
      "cell_type": "code",
      "source": [
        "from collections import Counter as c"
      ],
      "metadata": {
        "id": "EsQ0Q8ph3zz8"
      },
      "execution_count": 24,
      "outputs": []
    },
    {
      "cell_type": "code",
      "source": [
        "c(x_train.labels)"
      ],
      "metadata": {
        "id": "OD6UQ9GH38iN"
      },
      "execution_count": null,
      "outputs": []
    },
    {
      "cell_type": "markdown",
      "source": [
        "Counter({0: 606, 1: 445, 2: 479, 3: 621, 4: 475})"
      ],
      "metadata": {
        "id": "p_I7yLbV3_xn"
      }
    }
  ]
}