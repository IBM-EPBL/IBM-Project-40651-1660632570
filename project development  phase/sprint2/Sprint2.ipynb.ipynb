{
  "nbformat": 4,
  "nbformat_minor": 0,
  "metadata": {
    "colab": {
      "provenance": []
    },
    "kernelspec": {
      "name": "python3",
      "display_name": "Python 3"
    },
    "language_info": {
      "name": "python"
    }
  },
  "cells": [
    {
      "cell_type": "code",
      "execution_count": 1,
      "metadata": {
        "colab": {
          "base_uri": "https://localhost:8080/"
        },
        "id": "QqkU5a0F4qoN",
        "outputId": "dc4c5dc5-4a5c-45d8-f315-862328f35aec"
      },
      "outputs": [
        {
          "output_type": "stream",
          "name": "stdout",
          "text": [
            "\u001b[0m\u001b[01;34msample_data\u001b[0m/\n"
          ]
        }
      ],
      "source": [
        "ls"
      ]
    },
    {
      "cell_type": "code",
      "source": [
        "cd /content/drive/MyDrive/CNN"
      ],
      "metadata": {
        "id": "6MUAv06T5NM2"
      },
      "execution_count": null,
      "outputs": []
    },
    {
      "cell_type": "markdown",
      "source": [
        "/content/drive/MyDrive/CNN"
      ],
      "metadata": {
        "id": "XFdHQx3b5UsY"
      }
    },
    {
      "cell_type": "code",
      "source": [
        "pwd"
      ],
      "metadata": {
        "id": "Y7ac3Juq5YVG"
      },
      "execution_count": null,
      "outputs": []
    },
    {
      "cell_type": "markdown",
      "source": [
        "'/content/drive/MyDrive/CNN'"
      ],
      "metadata": {
        "id": "29wnJqip57Zr"
      }
    },
    {
      "cell_type": "code",
      "source": [
        "!unzip TRAIN_SET.zip"
      ],
      "metadata": {
        "id": "_cs5o7JZ6CWt"
      },
      "execution_count": null,
      "outputs": []
    },
    {
      "cell_type": "markdown",
      "source": [
        "Archive:  TRAIN_SET.zip\n",
        "replace TRAIN_SET/APPLES/0_100.jpg? [y]es, [n]o, [A]ll, [N]one, [r]ename: "
      ],
      "metadata": {
        "id": "TD1PHKBZ6TeT"
      }
    },
    {
      "cell_type": "code",
      "source": [
        "!unzip /content/drive/MyDrive/CNN/Dataset-20221105T032922Z-001.zip"
      ],
      "metadata": {
        "id": "vbeyTAHO6kB8"
      },
      "execution_count": null,
      "outputs": []
    },
    {
      "cell_type": "markdown",
      "source": [
        "Archive:  /content/drive/MyDrive/CNN/Dataset-20221105T032922Z-001.zip\n",
        "  inflating: Dataset/TEST_SET/APPLES/r_184_100.jpg  \n",
        "  inflating: Dataset/TEST_SET/APPLES/r_27_100.jpg  \n",
        "  inflating: Dataset/TEST_SET/APPLES/r_121_100.jpg  \n",
        "  inflating: Dataset/TEST_SET/APPLES/r_26_100.jpg  \n",
        "  inflating: Dataset/TEST_SET/APPLES/r_19_100.jpg  \n",
        "  inflating: Dataset/TEST_SET/APPLES/r_31_100.jpg  \n",
        "  inflating: Dataset/TEST_SET/APPLES/r_183_100.jpg  \n",
        "  inflating: Dataset/TEST_SET/APPLES/r_105_100.jpg  \n",
        "  inflating: Dataset/TEST_SET/APPLES/r_124_100.jpg  \n",
        "  inflating: Dataset/TEST_SET/APPLES/r_29_100.jpg  \n",
        "  inflating: Dataset/TEST_SET/APPLES/r_17_100.jpg  \n",
        "  inflating: Dataset/TEST_SET/APPLES/r_112_100.jpg  \n",
        "  inflating: Dataset/TEST_SET/APPLES/r_23_100.jpg  \n",
        "  inflating: Dataset/TEST_SET/APPLES/r_28_100.jpg  \n",
        "  inflating: Dataset/TEST_SET/APPLES/r_24_100.jpg  \n",
        "  inflating: Dataset/TEST_SET/APPLES/r_106_100.jpg  \n",
        "  inflating: Dataset/TEST_SET/APPLES/r_15_100.jpg  \n",
        "  inflating: Dataset/TEST_SET/APPLES/151_100.jpg  \n",
        "  inflating: Dataset/TEST_SET/APPLES/r_120_100.jpg  \n",
        "  inflating: Dataset/TEST_SET/APPLES/152_100.jpg  \n",
        "  inflating: Dataset/TEST_SET/APPLES/r_25_100.jpg  \n",
        "  inflating: Dataset/TEST_SET/APPLES/r_14_100.jpg  \n",
        "  inflating: Dataset/TEST_SET/APPLES/r_13_100.jpg  \n",
        "  inflating: Dataset/TEST_SET/APPLES/r_18_100.jpg  \n",
        "  inflating: Dataset/TEST_SET/APPLES/r_30_100.jpg  \n",
        "  inflating: Dataset/TEST_SET/APPLES/r_114_100.jpg  \n",
        "  inflating: Dataset/TEST_SET/APPLES/r_118_100.jpg  \n",
        "  inflating: Dataset/TEST_SET/APPLES/r_122_100.jpg  \n",
        "  inflating: Dataset/TEST_SET/APPLES/155_100.jpg  \n",
        "  inflating: Dataset/TEST_SET/APPLES/r_323_100.jpg  \n",
        "  inflating: Dataset/TEST_SET/APPLES/r_21_100.jpg  \n",
        "  inflating: Dataset/TEST_SET/APPLES/r_327_100.jpg  \n",
        "  inflating: Dataset/TEST_SET/APPLES/r_20_100.jpg  \n",
        "  inflating: Dataset/TEST_SET/APPLES/r_322_100.jpg  \n",
        "  inflating: Dataset/TEST_SET/APPLES/153_100.jpg  \n",
        "  inflating: Dataset/TEST_SET/APPLES/r_117_100.jpg  \n",
        "  inflating: Dataset/TEST_SET/APPLES/r_116_100.jpg  \n",
        "  inflating: Dataset/TEST_SET/APPLES/r_92_100.jpg  \n",
        "  inflating: Dataset/TEST_SET/APPLES/r_111_100.jpg  \n",
        "  inflating: Dataset/TEST_SET/APPLES/r_97_100.jpg  \n",
        "  inflating: Dataset/TEST_SET/APPLES/r_326_100.jpg  \n",
        "  inflating: Dataset/TEST_SET/APPLES/r_98_100.jpg  \n",
        "  inflating: Dataset/TEST_SET/APPLES/154_100.jpg  \n",
        "  inflating: Dataset/TEST_SET/APPLES/r_113_100.jpg  \n",
        "  inflating: Dataset/TEST_SET/APPLES/r_16_100.jpg  \n",
        "  inflating: Dataset/TEST_SET/APPLES/r_324_100.jpg  \n",
        "  inflating: Dataset/TEST_SET/APPLES/r_91_100.jpg  \n",
        "  inflating: Dataset/TEST_SET/APPLES/r_52_100.jpg  \n",
        "  inflating: Dataset/TEST_SET/APPLES/r_99_100.jpg  \n",
        "  inflating: Dataset/TEST_SET/APPLES/r_89_100.jpg  \n",
        "  inflating: Dataset/TEST_SET/APPLES/r_95_100.jpg  \n",
        "  inflating: Dataset/TEST_SET/APPLES/r_96_100.jpg  \n",
        "  inflating: Dataset/TEST_SET/APPLES/r_88_100.jpg  \n",
        "  inflating: Dataset/TEST_SET/APPLES/r_94_100.jpg  \n",
        "  inflating: Dataset/TEST_SET/APPLES/r_47_100.jpg  \n",
        "  inflating: Dataset/TEST_SET/APPLES/r_44_100.jpg  \n",
        "  inflating: Dataset/TEST_SET/APPLES/r_49_100.jpg  \n",
        "  inflating: Dataset/TEST_SET/APPLES/r_53_100.jpg  \n",
        "  inflating: Dataset/TEST_SET/APPLES/r_39_100.jpg  \n",
        "  inflating: Dataset/TEST_SET/APPLES/r_37_100.jpg  \n",
        "  inflating: Dataset/TEST_SET/APPLES/r_46_100.jpg  \n",
        "  inflating: Dataset/TEST_SET/APPLES/r_32_100.jpg  \n",
        "  inflating: Dataset/TEST_SET/APPLES/r_115_100.jpg  \n",
        "  inflating: Dataset/TEST_SET/APPLES/r_35_100.jpg  \n",
        "  inflating: Dataset/TEST_SET/APPLES/r_40_100.jpg  \n",
        "  inflating: Dataset/TEST_SET/APPLES/r_123_100.jpg  \n",
        "  inflating: Dataset/TEST_SET/APPLES/r_43_100.jpg  \n",
        "  inflating: Dataset/TEST_SET/APPLES/r_45_100.jpg  \n",
        "  inflating: Dataset/TEST_SET/APPLES/r_42_100.jpg  \n",
        "  inflating: Dataset/TEST_SET/APPLES/r_50_100.jpg  \n",
        "  inflating: Dataset/TEST_SET/APPLES/r_48_100.jpg  \n",
        "  inflating: Dataset/TEST_SET/APPLES/r_33_100.jpg  \n",
        "  inflating: Dataset/TEST_SET/APPLES/92_100.jpg  \n",
        "  inflating: Dataset/TEST_SET/APPLES/95_100.jpg  \n",
        "  inflating: Dataset/TEST_SET/APPLES/r_22_100.jpg  \n",
        "  inflating: Dataset/TEST_SET/APPLES/91_100.jpg  \n",
        "  inflating: Dataset/TEST_SET/APPLES/r_90_100.jpg  \n",
        "  inflating: Dataset/TEST_SET/APPLES/90_100.jpg  \n",
        "  inflating: Dataset/TEST_SET/APPLES/87_100.jpg  \n",
        "  inflating: Dataset/TEST_SET/APPLES/99_100.jpg  \n",
        "  inflating: Dataset/TEST_SET/APPLES/r_9_100.jpg  \n",
        "  inflating: Dataset/TEST_SET/APPLES/81_100.jpg  \n",
        "  inflating: Dataset/TEST_SET/APPLES/r_93_100.jpg  \n",
        "  inflating: Dataset/TEST_SET/APPLES/94_100.jpg  \n",
        "  inflating: Dataset/TEST_SET/APPLES/84_100.jpg  \n",
        "  inflating: Dataset/TEST_SET/APPLES/82_100.jpg  \n",
        "  inflating: Dataset/TEST_SET/APPLES/r_325_100.jpg  \n",
        "  inflating: Dataset/TEST_SET/APPLES/r_38_100.jpg  \n",
        "  inflating: Dataset/TEST_SET/APPLES/96_100.jpg  \n",
        "  inflating: Dataset/TEST_SET/APPLES/85_100.jpg  \n",
        "  inflating: Dataset/TEST_SET/APPLES/76_100.jpg  \n",
        "  inflating: Dataset/TEST_SET/APPLES/r_36_100.jpg  \n",
        "  inflating: Dataset/TEST_SET/APPLES/88_100.jpg  \n",
        "  inflating: Dataset/TEST_SET/APPLES/r_51_100.jpg  \n",
        "  inflating: Dataset/TEST_SET/APPLES/86_100.jpg  \n",
        "  inflating: Dataset/TEST_SET/APPLES/r_41_100.jpg  \n",
        "  inflating: Dataset/TEST_SET/APPLES/73_100.jpg  \n",
        "  inflating: Dataset/TEST_SET/APPLES/70_100.jpg  \n",
        "  inflating: Dataset/TEST_SET/APPLES/71_100.jpg  \n",
        "  inflating: Dataset/TEST_SET/APPLES/63_100.jpg  \n",
        "  inflating: Dataset/TEST_SET/APPLES/78_100.jpg  \n",
        "  inflating: Dataset/TEST_SET/APPLES/67_100.jpg  \n",
        "  inflating: Dataset/TEST_SET/APPLES/77_100.jpg  \n",
        "  inflating: Dataset/TEST_SET/APPLES/98_100.jpg  \n",
        "  inflating: Dataset/TEST_SET/APPLES/80_100.jpg  \n",
        "  inflating: Dataset/TEST_SET/APPLES/54_100.jpg  \n",
        "  inflating: Dataset/TEST_SET/APPLES/97_100.jpg  \n",
        "  inflating: Dataset/TEST_SET/APPLES/79_100.jpg  \n",
        "  inflating: Dataset/TEST_SET/APPLES/r_34_100.jpg  \n",
        "  inflating: Dataset/TEST_SET/APPLES/60_100.jpg  \n",
        "  inflating: Dataset/TEST_SET/APPLES/64_100.jpg  \n",
        "  inflating: Dataset/TEST_SET/APPLES/75_100.jpg  \n",
        "  inflating: Dataset/TEST_SET/APPLES/83_100.jpg  \n",
        "  inflating: Dataset/TEST_SET/APPLES/74_100.jpg  \n",
        "  inflating: Dataset/TEST_SET/APPLES/68_100.jpg  \n",
        "  inflating: Dataset/TEST_SET/APPLES/93_100.jpg  \n",
        "  inflating: Dataset/TEST_SET/APPLES/69_100.jpg  \n",
        "  inflating: Dataset/TEST_SET/APPLES/89_100.jpg  \n",
        "  inflating: Dataset/TEST_SET/APPLES/56_100.jpg  \n",
        "  inflating: Dataset/TEST_SET/APPLES/41_100.jpg  \n",
        "  inflating: Dataset/TEST_SET/APPLES/62_100.jpg  \n",
        "  inflating: Dataset/TEST_SET/APPLES/7_100.jpg  \n",
        "  inflating: Dataset/TEST_SET/APPLES/33_100.jpg  \n",
        "  inflating: Dataset/TEST_SET/APPLES/47_100.jpg  \n",
        "  inflating: Dataset/TEST_SET/APPLES/66_100.jpg  \n",
        "  inflating: Dataset/TEST_SET/APPLES/59_100.jpg  \n",
        "  inflating: Dataset/TEST_SET/APPLES/49_100.jpg  \n",
        "  inflating: Dataset/TEST_SET/APPLES/40_100.jpg  \n",
        "  inflating: Dataset/TEST_SET/APPLES/37_100.jpg  \n",
        "  inflating: Dataset/TEST_SET/APPLES/72_100.jpg  \n",
        "  inflating: Dataset/TEST_SET/APPLES/65_100.jpg  \n",
        "  inflating: Dataset/TEST_SET/APPLES/57_100.jpg  \n",
        "  inflating: Dataset/TEST_SET/APPLES/45_100.jpg  \n",
        "  inflating: Dataset/TEST_SET/APPLES/61_100.jpg  \n",
        "  inflating: Dataset/TEST_SET/APPLES/58_100.jpg  \n",
        "  inflating: Dataset/TEST_SET/APPLES/53_100.jpg  \n",
        "  inflating: Dataset/TEST_SET/APPLES/44_100.jpg  \n",
        "  inflating: Dataset/TEST_SET/APPLES/38_100.jpg  \n",
        "  inflating: Dataset/TEST_SET/APPLES/34_100.jpg  \n",
        "  inflating: Dataset/TEST_SET/APPLES/9_100.jpg  \n",
        "  inflating: Dataset/TEST_SET/APPLES/46_100.jpg  \n",
        "  inflating: Dataset/TEST_SET/APPLES/3_100.jpg  \n",
        "  inflating: Dataset/TEST_SET/APPLES/55_100.jpg  \n",
        "  inflating: Dataset/TEST_SET/ORANGE/r_96_100.jpg  \n",
        "  inflating: Dataset/TEST_SET/ORANGE/r_98_100.jpg  \n",
        "  inflating: Dataset/TEST_SET/ORANGE/r_97_100.jpg  \n",
        "  inflating: Dataset/TEST_SET/ORANGE/r_93_100.jpg  \n",
        "  inflating: Dataset/TEST_SET/ORANGE/r_89_100.jpg  \n",
        "  inflating: Dataset/TEST_SET/APPLES/32_100.jpg  \n",
        "  inflating: Dataset/TEST_SET/APPLES/51_100.jpg  \n",
        "  inflating: Dataset/TEST_SET/APPLES/43_100.jpg  \n",
        "  inflating: Dataset/TEST_SET/APPLES/4_100.jpg  \n",
        "  inflating: Dataset/TEST_SET/APPLES/52_100.jpg  \n",
        "  inflating: Dataset/TEST_SET/APPLES/5_100.jpg  \n",
        "  inflating: Dataset/TEST_SET/ORANGE/r_90_100.jpg  \n",
        "  inflating: Dataset/TEST_SET/APPLES/35_100.jpg  \n",
        "  inflating: Dataset/TEST_SET/ORANGE/r_9_100.jpg  \n",
        "  inflating: Dataset/TEST_SET/ORANGE/r_82_100.jpg  \n",
        "  inflating: Dataset/TEST_SET/APPLES/48_100.jpg  \n",
        "  inflating: Dataset/TEST_SET/APPLES/42_100.jpg  \n",
        "  inflating: Dataset/TEST_SET/ORANGE/r_87_100.jpg  \n",
        "  inflating: Dataset/TEST_SET/ORANGE/r_84_100.jpg  \n",
        "  inflating: Dataset/TEST_SET/APPLES/6_100.jpg  \n",
        "  inflating: Dataset/TEST_SET/APPLES/39_100.jpg  \n",
        "  inflating: Dataset/TEST_SET/ORANGE/r_91_100.jpg  \n",
        "  inflating: Dataset/TEST_SET/ORANGE/r_92_100.jpg  \n",
        "  inflating: Dataset/TEST_SET/APPLES/36_100.jpg  \n",
        "  inflating: Dataset/TEST_SET/ORANGE/r_95_100.jpg  \n",
        "  inflating: Dataset/TEST_SET/ORANGE/r_7_100.jpg  \n",
        "  inflating: Dataset/TEST_SET/ORANGE/r_76_100.jpg  \n",
        "  inflating: Dataset/TEST_SET/APPLES/50_100.jpg  \n",
        "  inflating: Dataset/TEST_SET/ORANGE/r_77_100.jpg  \n",
        "  inflating: Dataset/TEST_SET/ORANGE/r_74_100.jpg  \n",
        "  inflating: Dataset/TEST_SET/ORANGE/r_80_100.jpg  \n",
        "  inflating: Dataset/TEST_SET/APPLES/8_100.jpg  \n",
        "  inflating: Dataset/TEST_SET/ORANGE/r_94_100.jpg  \n",
        "  inflating: Dataset/TEST_SET/ORANGE/r_78_100.jpg  \n",
        "  inflating: Dataset/TEST_SET/ORANGE/r_73_100.jpg  \n",
        "  inflating: Dataset/TEST_SET/ORANGE/r_66_100.jpg  \n",
        "  inflating: Dataset/TEST_SET/ORANGE/r_64_100.jpg  \n",
        "  inflating: Dataset/TEST_SET/ORANGE/r_63_100.jpg  \n",
        "  inflating: Dataset/TEST_SET/ORANGE/r_69_100.jpg  \n",
        "  inflating: Dataset/TEST_SET/ORANGE/r_60_100.jpg  \n",
        "  inflating: Dataset/TEST_SET/ORANGE/r_8_100.jpg  \n",
        "  inflating: Dataset/TEST_SET/ORANGE/r_83_100.jpg  \n",
        "  inflating: Dataset/TEST_SET/ORANGE/r_85_100.jpg  \n",
        "  inflating: Dataset/TEST_SET/ORANGE/r_6_100.jpg  \n",
        "  inflating: Dataset/TEST_SET/ORANGE/r_67_100.jpg  \n",
        "  inflating: Dataset/TEST_SET/ORANGE/r_68_100.jpg  \n",
        "  inflating: Dataset/TEST_SET/ORANGE/r_99_100.jpg  \n",
        "  inflating: Dataset/TEST_SET/ORANGE/r_81_100.jpg  \n",
        "  inflating: Dataset/TEST_SET/ORANGE/r_70_100.jpg  \n",
        "  inflating: Dataset/TEST_SET/ORANGE/r_79_100.jpg  \n",
        "  inflating: Dataset/TEST_SET/ORANGE/r_57_100.jpg  \n",
        "  inflating: Dataset/TEST_SET/ORANGE/r_54_100.jpg  \n",
        "  inflating: Dataset/TEST_SET/ORANGE/r_59_100.jpg  \n",
        "  inflating: Dataset/TEST_SET/ORANGE/r_50_100.jpg  \n",
        "  inflating: Dataset/TEST_SET/ORANGE/r_61_100.jpg  \n",
        "  inflating: Dataset/TEST_SET/ORANGE/r_47_100.jpg  \n",
        "  inflating: Dataset/TEST_SET/ORANGE/r_53_100.jpg  \n",
        "  inflating: Dataset/TEST_SET/ORANGE/r_56_100.jpg  \n",
        "  inflating: Dataset/TEST_SET/ORANGE/r_65_100.jpg  \n",
        "  inflating: Dataset/TEST_SET/ORANGE/r_43_100.jpg  \n",
        "  inflating: Dataset/TEST_SET/ORANGE/r_86_100.jpg  \n",
        "  inflating: Dataset/TEST_SET/ORANGE/r_52_100.jpg  \n",
        "  inflating: Dataset/TEST_SET/ORANGE/r_88_100.jpg  \n",
        "  inflating: Dataset/TEST_SET/ORANGE/r_72_100.jpg  \n",
        "  inflating: Dataset/TEST_SET/ORANGE/r_42_100.jpg  \n",
        "  inflating: Dataset/TEST_SET/ORANGE/r_39_100.jpg  \n",
        "  inflating: Dataset/TEST_SET/ORANGE/r_4_100.jpg  \n",
        "  inflating: Dataset/TEST_SET/ORANGE/r_46_100.jpg  \n",
        "  inflating: Dataset/TEST_SET/ORANGE/r_49_100.jpg  \n",
        "  inflating: Dataset/TEST_SET/ORANGE/r_40_100.jpg  \n",
        "  inflating: Dataset/TEST_SET/ORANGE/r_38_100.jpg  \n",
        "  inflating: Dataset/TEST_SET/ORANGE/r_36_100.jpg  \n",
        "  inflating: Dataset/TEST_SET/ORANGE/r_62_100.jpg  \n",
        "  inflating: Dataset/TEST_SET/ORANGE/r_71_100.jpg  \n",
        "  inflating: Dataset/TEST_SET/ORANGE/r_32_100.jpg  \n",
        "  inflating: Dataset/TEST_SET/ORANGE/r_48_100.jpg  \n",
        "  inflating: Dataset/TEST_SET/ORANGE/r_75_100.jpg  \n",
        "  inflating: Dataset/TEST_SET/ORANGE/r_3_100.jpg  \n",
        "  inflating: Dataset/TEST_SET/ORANGE/r_41_100.jpg  \n",
        "  inflating: Dataset/TEST_SET/ORANGE/r_321_100.jpg  \n",
        "  inflating: Dataset/TEST_SET/ORANGE/r_37_100.jpg  \n",
        "  inflating: Dataset/TEST_SET/ORANGE/r_58_100.jpg  \n",
        "  inflating: Dataset/TEST_SET/ORANGE/9_100.jpg  \n",
        "  inflating: Dataset/TRAIN_SET.zip   \n",
        "  inflating: Dataset/TEST_SET/ORANGE/r_51_100.jpg  \n",
        "  inflating: Dataset/TEST_SET/ORANGE/r_44_100.jpg  \n",
        "  inflating: Dataset/TEST_SET/ORANGE/r_326_100.jpg  \n",
        "  inflating: Dataset/TEST_SET/ORANGE/r_324_100.jpg  \n",
        "  inflating: Dataset/TEST_SET/ORANGE/r_323_100.jpg  \n",
        "  inflating: Dataset/TEST_SET/ORANGE/97_100.jpg  \n",
        "  inflating: Dataset/TEST_SET/ORANGE/r_325_100.jpg  \n",
        "  inflating: Dataset/TEST_SET/ORANGE/r_55_100.jpg  \n",
        "  inflating: Dataset/TEST_SET/ORANGE/93_100.jpg  \n",
        "  inflating: Dataset/TEST_SET/ORANGE/8_100.jpg  \n",
        "  inflating: Dataset/TEST_SET/ORANGE/89_100.jpg  \n",
        "  inflating: Dataset/TEST_SET/ORANGE/96_100.jpg  \n",
        "  inflating: Dataset/TEST_SET/ORANGE/90_100.jpg  \n",
        "  inflating: Dataset/TEST_SET/ORANGE/81_100.jpg  \n",
        "  inflating: Dataset/TEST_SET/ORANGE/r_35_100.jpg  \n",
        "  inflating: Dataset/TEST_SET/ORANGE/95_100.jpg  \n",
        "  inflating: Dataset/TEST_SET/ORANGE/r_33_100.jpg  \n",
        "  inflating: Dataset/TEST_SET/ORANGE/84_100.jpg  \n",
        "  inflating: Dataset/TEST_SET/ORANGE/7_100.jpg  \n",
        "  inflating: Dataset/TEST_SET/ORANGE/r_45_100.jpg  \n",
        "  inflating: Dataset/TEST_SET/ORANGE/92_100.jpg  \n",
        "  inflating: Dataset/TEST_SET/ORANGE/r_5_100.jpg  \n",
        "  inflating: Dataset/TEST_SET/ORANGE/65_100.jpg  \n",
        "  inflating: Dataset/TEST_SET/ORANGE/r_322_100.jpg  \n",
        "  inflating: Dataset/TEST_SET/ORANGE/91_100.jpg  \n",
        "  inflating: Dataset/TEST_SET/ORANGE/94_100.jpg  \n",
        "  inflating: Dataset/TEST_SET/ORANGE/98_100.jpg  \n",
        "  inflating: Dataset/TEST_SET/ORANGE/87_100.jpg  \n",
        "  inflating: Dataset/TEST_SET/ORANGE/78_100.jpg  \n",
        "  inflating: Dataset/TEST_SET/ORANGE/77_100.jpg  \n",
        "  inflating: Dataset/TEST_SET/ORANGE/86_100.jpg  \n",
        "  inflating: Dataset/TEST_SET/ORANGE/6_100.jpg  \n",
        "  inflating: Dataset/TEST_SET/ORANGE/r_34_100.jpg  \n",
        "  inflating: Dataset/TEST_SET/ORANGE/82_100.jpg  \n",
        "  inflating: Dataset/TEST_SET/ORANGE/85_100.jpg  \n",
        "  inflating: Dataset/TEST_SET/ORANGE/74_100.jpg  \n",
        "  inflating: Dataset/TEST_SET/ORANGE/99_100.jpg  \n",
        "  inflating: Dataset/TEST_SET/ORANGE/63_100.jpg  \n",
        "  inflating: Dataset/TEST_SET/ORANGE/64_100.jpg  \n",
        "  inflating: Dataset/TEST_SET/ORANGE/88_100.jpg  \n",
        "  inflating: Dataset/TEST_SET/ORANGE/80_100.jpg  \n",
        "  inflating: Dataset/TEST_SET/ORANGE/r_327_100.jpg  \n",
        "  inflating: Dataset/TEST_SET/ORANGE/71_100.jpg  \n",
        "  inflating: Dataset/TEST_SET/ORANGE/54_100.jpg  \n",
        "  inflating: Dataset/TEST_SET/ORANGE/72_100.jpg  \n",
        "  inflating: Dataset/TEST_SET/ORANGE/76_100.jpg  \n",
        "  inflating: Dataset/TEST_SET/WATERMELON/r_99_100.jpg  \n",
        "  inflating: Dataset/TEST_SET/ORANGE/69_100.jpg  \n",
        "  inflating: Dataset/TEST_SET/ORANGE/67_100.jpg  \n",
        "  inflating: Dataset/TEST_SET/ORANGE/73_100.jpg  \n",
        "  inflating: Dataset/TEST_SET/WATERMELON/r_96_100.jpg  \n",
        "  inflating: Dataset/TEST_SET/ORANGE/83_100.jpg  \n",
        "  inflating: Dataset/TEST_SET/ORANGE/62_100.jpg  \n",
        "  inflating: Dataset/TEST_SET/ORANGE/5_100.jpg  \n",
        "  inflating: Dataset/TEST_SET/WATERMELON/r_95_100.jpg  \n",
        "  inflating: Dataset/TEST_SET/ORANGE/58_100.jpg  \n",
        "  inflating: Dataset/TEST_SET/WATERMELON/r_98_100.jpg  \n",
        "  inflating: Dataset/TEST_SET/WATERMELON/r_93_100.jpg  \n",
        "  inflating: Dataset/TEST_SET/WATERMELON/r_86_100.jpg  \n",
        "  inflating: Dataset/TEST_SET/ORANGE/75_100.jpg  \n",
        "  inflating: Dataset/TEST_SET/WATERMELON/r_91_100.jpg  \n",
        "  inflating: Dataset/TEST_SET/ORANGE/61_100.jpg  \n",
        "  inflating: Dataset/TEST_SET/ORANGE/56_100.jpg  \n",
        "  inflating: Dataset/TEST_SET/ORANGE/68_100.jpg  \n",
        "  inflating: Dataset/TEST_SET/ORANGE/60_100.jpg  \n",
        "  inflating: Dataset/TEST_SET/ORANGE/57_100.jpg  \n",
        "  inflating: Dataset/TEST_SET/WATERMELON/r_94_100.jpg  \n",
        "  inflating: Dataset/TEST_SET/ORANGE/44_100.jpg  \n",
        "  inflating: Dataset/TEST_SET/ORANGE/52_100.jpg  \n",
        "  inflating: Dataset/TEST_SET/ORANGE/70_100.jpg  \n",
        "  inflating: Dataset/TEST_SET/ORANGE/79_100.jpg  \n",
        "  inflating: Dataset/TEST_SET/WATERMELON/r_89_100.jpg  \n",
        "  inflating: Dataset/TEST_SET/WATERMELON/r_97_100.jpg  \n",
        "  inflating: Dataset/TEST_SET/ORANGE/59_100.jpg  \n",
        "  inflating: Dataset/TEST_SET/ORANGE/51_100.jpg  \n",
        "  inflating: Dataset/TEST_SET/ORANGE/55_100.jpg  \n",
        "  inflating: Dataset/TEST_SET/WATERMELON/r_92_100.jpg  \n",
        "  inflating: Dataset/TEST_SET/WATERMELON/r_82_100.jpg  \n",
        "  inflating: Dataset/TEST_SET/WATERMELON/r_84_100.jpg  \n",
        "  inflating: Dataset/TEST_SET/WATERMELON/r_74_100.jpg  \n",
        "  inflating: Dataset/TEST_SET/WATERMELON/r_76_100.jpg  \n",
        "  inflating: Dataset/TEST_SET/ORANGE/66_100.jpg  \n",
        "  inflating: Dataset/TEST_SET/ORANGE/43_100.jpg  \n",
        "  inflating: Dataset/TEST_SET/ORANGE/53_100.jpg  \n",
        "  inflating: Dataset/TEST_SET/WATERMELON/r_87_100.jpg  \n",
        "  inflating: Dataset/TEST_SET/ORANGE/4_100.jpg  \n",
        "  inflating: Dataset/TEST_SET/ORANGE/47_100.jpg  \n",
        "  inflating: Dataset/TEST_SET/WATERMELON/r_75_100.jpg  \n",
        "  inflating: Dataset/TEST_SET/ORANGE/50_100.jpg  \n",
        "  inflating: Dataset/TEST_SET/WATERMELON/r_73_100.jpg  \n",
        "  inflating: Dataset/TEST_SET/WATERMELON/r_77_100.jpg  \n",
        "  inflating: Dataset/TEST_SET/ORANGE/36_100.jpg  \n",
        "  inflating: Dataset/TEST_SET/ORANGE/40_100.jpg  \n",
        "  inflating: Dataset/TEST_SET/ORANGE/45_100.jpg  \n",
        "  inflating: Dataset/TEST_SET/WATERMELON/r_66_100.jpg  \n",
        "  inflating: Dataset/TEST_SET/WATERMELON/r_79_100.jpg  \n",
        "  inflating: Dataset/TEST_SET/ORANGE/48_100.jpg  \n",
        "  inflating: Dataset/TEST_SET/ORANGE/30_100.jpg  \n",
        "  inflating: Dataset/TEST_SET/WATERMELON/r_71_100.jpg  \n",
        "  inflating: Dataset/TEST_SET/ORANGE/41_100.jpg  \n",
        "  inflating: Dataset/TEST_SET/ORANGE/35_100.jpg  \n",
        "  inflating: Dataset/TEST_SET/ORANGE/3_100.jpg  \n",
        "  inflating: Dataset/TEST_SET/WATERMELON/r_90_100.jpg  \n",
        "  inflating: Dataset/TEST_SET/ORANGE/49_100.jpg  \n",
        "  inflating: Dataset/TEST_SET/WATERMELON/r_67_100.jpg  \n",
        "  inflating: Dataset/TEST_SET/WATERMELON/r_88_100.jpg  \n",
        "  inflating: Dataset/TEST_SET/WATERMELON/r_70_100.jpg  \n",
        "  inflating: Dataset/TEST_SET/ORANGE/33_100.jpg  \n",
        "  inflating: Dataset/TEST_SET/ORANGE/34_100.jpg  \n",
        "  inflating: Dataset/TEST_SET/WATERMELON/r_85_100.jpg  \n",
        "  inflating: Dataset/TEST_SET/WATERMELON/r_56_100.jpg  \n",
        "  inflating: Dataset/TEST_SET/WATERMELON/r_83_100.jpg  \n",
        "  inflating: Dataset/TEST_SET/WATERMELON/r_69_100.jpg  \n",
        "  inflating: Dataset/TEST_SET/ORANGE/46_100.jpg  \n",
        "  inflating: Dataset/TEST_SET/WATERMELON/r_72_100.jpg  \n",
        "  inflating: Dataset/TEST_SET/WATERMELON/r_68_100.jpg  \n",
        "  inflating: Dataset/TEST_SET/ORANGE/38_100.jpg  \n",
        "  inflating: Dataset/TEST_SET/ORANGE/42_100.jpg  \n",
        "  inflating: Dataset/TEST_SET/WATERMELON/r_58_100.jpg  \n",
        "  inflating: Dataset/TEST_SET/ORANGE/37_100.jpg  \n",
        "  inflating: Dataset/TEST_SET/WATERMELON/r_55_100.jpg  \n",
        "  inflating: Dataset/TEST_SET/WATERMELON/r_59_100.jpg  \n",
        "  inflating: Dataset/TEST_SET/WATERMELON/r_78_100.jpg  \n",
        "  inflating: Dataset/TEST_SET/WATERMELON/r_80_100.jpg  \n",
        "  inflating: Dataset/TEST_SET/WATERMELON/r_61_100.jpg  \n",
        "  inflating: Dataset/TEST_SET/ORANGE/310_100.jpg  \n",
        "  inflating: Dataset/TEST_SET/WATERMELON/r_181_100.jpg  \n",
        "  inflating: Dataset/TEST_SET/WATERMELON/r_60_100.jpg  \n",
        "  inflating: Dataset/TEST_SET/WATERMELON/r_183_100.jpg  \n",
        "  inflating: Dataset/TEST_SET/ORANGE/39_100.jpg  \n",
        "  inflating: Dataset/TEST_SET/WATERMELON/r_52_100.jpg  \n",
        "  inflating: Dataset/TEST_SET/WATERMELON/r_108_100.jpg  \n",
        "  inflating: Dataset/TEST_SET/WATERMELON/r_169_100.jpg  \n",
        "  inflating: Dataset/TEST_SET/ORANGE/31_100.jpg  \n",
        "  inflating: Dataset/TEST_SET/WATERMELON/r_175_100.jpg  \n",
        "  inflating: Dataset/TEST_SET/WATERMELON/r_174_100.jpg  \n",
        "  inflating: Dataset/TEST_SET/WATERMELON/r_48_100.jpg  \n",
        "  inflating: Dataset/TEST_SET/WATERMELON/r_51_100.jpg  \n",
        "  inflating: Dataset/TEST_SET/WATERMELON/r_54_100.jpg  \n",
        "  inflating: Dataset/TEST_SET/WATERMELON/r_53_100.jpg  \n",
        "  inflating: Dataset/TEST_SET/WATERMELON/r_178_100.jpg  \n",
        "  inflating: Dataset/TEST_SET/WATERMELON/r_172_100.jpg  \n",
        "  inflating: Dataset/TEST_SET/WATERMELON/r_180_100.jpg  \n",
        "  inflating: Dataset/TEST_SET/WATERMELON/r_65_100.jpg  \n",
        "  inflating: Dataset/TEST_SET/WATERMELON/r_176_100.jpg  \n",
        "  inflating: Dataset/TEST_SET/WATERMELON/r_173_100.jpg  \n",
        "  inflating: Dataset/TEST_SET/WATERMELON/r_49_100.jpg  \n",
        "  inflating: Dataset/TEST_SET/WATERMELON/r_64_100.jpg  \n",
        "  inflating: Dataset/TEST_SET/WATERMELON/r_62_100.jpg  \n",
        "  inflating: Dataset/TEST_SET/ORANGE/32_100.jpg  \n",
        "  inflating: Dataset/TEST_SET/WATERMELON/r_109_100.jpg  \n",
        "  inflating: Dataset/TEST_SET/WATERMELON/r_113_100.jpg  \n",
        "  inflating: Dataset/TEST_SET/WATERMELON/296_100.jpg  \n",
        "  inflating: Dataset/TEST_SET/WATERMELON/r_105_100.jpg  \n",
        "  inflating: Dataset/TEST_SET/WATERMELON/r_101_100.jpg  \n",
        "  inflating: Dataset/TEST_SET/WATERMELON/290_100.jpg  \n",
        "  inflating: Dataset/TEST_SET/WATERMELON/280_100.jpg  \n",
        "  inflating: Dataset/TEST_SET/WATERMELON/r_106_100.jpg  \n",
        "  inflating: Dataset/TEST_SET/WATERMELON/r_47_100.jpg  \n",
        "  inflating: Dataset/TEST_SET/WATERMELON/r_115_100.jpg  \n",
        "  inflating: Dataset/TEST_SET/WATERMELON/r_112_100.jpg  \n",
        "  inflating: Dataset/TEST_SET/WATERMELON/r_168_100.jpg  \n",
        "  inflating: Dataset/TEST_SET/WATERMELON/r_171_100.jpg  \n",
        "  inflating: Dataset/TEST_SET/WATERMELON/r_107_100.jpg  \n",
        "  inflating: Dataset/TEST_SET/WATERMELON/276_100.jpg  \n",
        "  inflating: Dataset/TEST_SET/WATERMELON/r_103_100.jpg  \n",
        "  inflating: Dataset/TEST_SET/WATERMELON/286_100.jpg  \n",
        "  inflating: Dataset/TEST_SET/WATERMELON/266_100.jpg  \n",
        "  inflating: Dataset/TEST_SET/WATERMELON/281_100.jpg  \n",
        "  inflating: Dataset/TEST_SET/WATERMELON/284_100.jpg  \n",
        "  inflating: Dataset/TEST_SET/WATERMELON/r_100_100.jpg  \n",
        "  inflating: Dataset/TEST_SET/WATERMELON/r_104_100.jpg  \n",
        "  inflating: Dataset/TEST_SET/WATERMELON/283_100.jpg  \n",
        "  inflating: Dataset/TEST_SET/WATERMELON/287_100.jpg  \n",
        "  inflating: Dataset/TEST_SET/WATERMELON/r_110_100.jpg  \n",
        "  inflating: Dataset/TEST_SET/WATERMELON/r_63_100.jpg  \n",
        "  inflating: Dataset/TEST_SET/WATERMELON/r_114_100.jpg  \n",
        "  inflating: Dataset/TEST_SET/WATERMELON/279_100.jpg  \n",
        "  inflating: Dataset/TEST_SET/WATERMELON/282_100.jpg  \n",
        "  inflating: Dataset/TEST_SET/WATERMELON/273_100.jpg  \n",
        "  inflating: Dataset/TEST_SET/WATERMELON/277_100.jpg  \n",
        "  inflating: Dataset/TEST_SET/WATERMELON/269_100.jpg  \n",
        "  inflating: Dataset/TEST_SET/BANANA/r2_197_100.jpg  \n",
        "  inflating: Dataset/TEST_SET/BANANA/r2_184_100.jpg  \n",
        "  inflating: Dataset/TEST_SET/BANANA/r2_195_100.jpg  \n",
        "  inflating: Dataset/TEST_SET/WATERMELON/260_100.jpg  \n",
        "  inflating: Dataset/TEST_SET/WATERMELON/275_100.jpg  \n",
        "  inflating: Dataset/TEST_SET/WATERMELON/288_100.jpg  \n",
        "  inflating: Dataset/TEST_SET/BANANA/r2_189_100.jpg  \n",
        "  inflating: Dataset/TEST_SET/WATERMELON/r_102_100.jpg  \n",
        "  inflating: Dataset/TEST_SET/WATERMELON/268_100.jpg  \n",
        "  inflating: Dataset/TEST_SET/BANANA/r2_196_100.jpg  \n",
        "  inflating: Dataset/TEST_SET/BANANA/r2_200_100.jpg  \n",
        "  inflating: Dataset/TEST_SET/BANANA/r2_191_100.jpg  \n",
        "  inflating: Dataset/TEST_SET/WATERMELON/267_100.jpg  \n",
        "  inflating: Dataset/TEST_SET/WATERMELON/271_100.jpg  \n",
        "  inflating: Dataset/TEST_SET/BANANA/r2_152_100.jpg  \n",
        "  inflating: Dataset/TEST_SET/BANANA/r2_181_100.jpg  \n",
        "  inflating: Dataset/TEST_SET/BANANA/r2_190_100.jpg  \n",
        "  inflating: Dataset/TEST_SET/WATERMELON/270_100.jpg  \n",
        "  inflating: Dataset/TEST_SET/WATERMELON/256_100.jpg  \n",
        "  inflating: Dataset/TEST_SET/WATERMELON/274_100.jpg  \n",
        "  inflating: Dataset/TEST_SET/BANANA/r2_150_100.jpg  \n",
        "  inflating: Dataset/TEST_SET/WATERMELON/265_100.jpg  \n",
        "  inflating: Dataset/TEST_SET/WATERMELON/262_100.jpg  \n",
        "  inflating: Dataset/TEST_SET/WATERMELON/257_100.jpg  \n",
        "  inflating: Dataset/TEST_SET/WATERMELON/238_100.jpg  \n",
        "  inflating: Dataset/TEST_SET/BANANA/r2_199_100.jpg  \n",
        "  inflating: Dataset/TEST_SET/WATERMELON/263_100.jpg  \n",
        "  inflating: Dataset/TEST_SET/WATERMELON/244_100.jpg  \n",
        "  inflating: Dataset/TEST_SET/BANANA/r2_153_100.jpg  \n",
        "  inflating: Dataset/TEST_SET/BANANA/r2_193_100.jpg  \n",
        "  inflating: Dataset/TEST_SET/WATERMELON/254_100.jpg  \n",
        "  inflating: Dataset/TEST_SET/WATERMELON/237_100.jpg  \n",
        "  inflating: Dataset/TEST_SET/WATERMELON/259_100.jpg  \n",
        "  inflating: Dataset/TEST_SET/BANANA/r2_149_100.jpg  \n",
        "  inflating: Dataset/TEST_SET/WATERMELON/272_100.jpg  \n",
        "  inflating: Dataset/TEST_SET/BANANA/r2_154_100.jpg  \n",
        "  inflating: Dataset/TEST_SET/BANANA/r2_148_100.jpg  \n",
        "  inflating: Dataset/TEST_SET/WATERMELON/253_100.jpg  \n",
        "  inflating: Dataset/TEST_SET/BANANA/r2_145_100.jpg  \n",
        "  inflating: Dataset/TEST_SET/BANANA/r2_141_100.jpg  \n",
        "  inflating: Dataset/TEST_SET/WATERMELON/r_111_100.jpg  \n",
        "  inflating: Dataset/TEST_SET/WATERMELON/261_100.jpg  \n",
        "  inflating: Dataset/TEST_SET/WATERMELON/255_100.jpg  \n",
        "  inflating: Dataset/TEST_SET/WATERMELON/213_100.jpg  \n",
        "  inflating: Dataset/TEST_SET/WATERMELON/249_100.jpg  \n",
        "  inflating: Dataset/TEST_SET/BANANA/r2_194_100.jpg  \n",
        "  inflating: Dataset/TEST_SET/BANANA/r2_151_100.jpg  \n",
        "  inflating: Dataset/TEST_SET/WATERMELON/202_100.jpg  \n",
        "  inflating: Dataset/TEST_SET/BANANA/r2_192_100.jpg  \n",
        "  inflating: Dataset/TEST_SET/BANANA/r2_180_100.jpg  \n",
        "  inflating: Dataset/TEST_SET/BANANA/r2_183_100.jpg  \n",
        "  inflating: Dataset/TEST_SET/WATERMELON/201_100.jpg  \n",
        "  inflating: Dataset/TEST_SET/WATERMELON/209_100.jpg  \n",
        "  inflating: Dataset/TEST_SET/BANANA/r2_143_100.jpg  \n",
        "  inflating: Dataset/TEST_SET/BANANA/r2_147_100.jpg  \n",
        "  inflating: Dataset/TEST_SET/WATERMELON/258_100.jpg  \n",
        "  inflating: Dataset/TEST_SET/WATERMELON/207_100.jpg  \n",
        "  inflating: Dataset/TEST_SET/WATERMELON/203_100.jpg  \n",
        "  inflating: Dataset/TEST_SET/BANANA/r2_142_100.jpg  \n",
        "  inflating: Dataset/TEST_SET/WATERMELON/153_100.jpg  \n",
        "  inflating: Dataset/TEST_SET/WATERMELON/230_100.jpg  \n",
        "  inflating: Dataset/TEST_SET/WATERMELON/264_100.jpg  \n",
        "  inflating: Dataset/TEST_SET/BANANA/r2_178_100.jpg  \n",
        "  inflating: Dataset/TEST_SET/BANANA/r2_188_100.jpg  \n",
        "  inflating: Dataset/TEST_SET/BANANA/r2_138_100.jpg  \n",
        "  inflating: Dataset/TEST_SET/BANANA/r2_94_100.jpg  \n",
        "  inflating: Dataset/TEST_SET/BANANA/r2_107_100.jpg  \n",
        "  inflating: Dataset/TEST_SET/BANANA/r2_92_100.jpg  \n",
        "  inflating: Dataset/TEST_SET/WATERMELON/176_100.jpg  \n",
        "  inflating: Dataset/TEST_SET/BANANA/r2_109_100.jpg  \n",
        "  inflating: Dataset/TEST_SET/WATERMELON/206_100.jpg  \n",
        "  inflating: Dataset/TEST_SET/BANANA/r2_95_100.jpg  \n",
        "  inflating: Dataset/TEST_SET/BANANA/r2_146_100.jpg  \n",
        "  inflating: Dataset/TEST_SET/WATERMELON/185_100.jpg  \n",
        "  inflating: Dataset/TEST_SET/BANANA/r2_6_100.jpg  \n",
        "  inflating: Dataset/TEST_SET/WATERMELON/235_100.jpg  \n",
        "  inflating: Dataset/TEST_SET/BANANA/r2_144_100.jpg  \n",
        "  inflating: Dataset/TEST_SET/WATERMELON/151_100.jpg  \n",
        "  inflating: Dataset/TEST_SET/BANANA/r2_86_100.jpg  \n",
        "  inflating: Dataset/TEST_SET/BANANA/r2_45_100.jpg  \n",
        "  inflating: Dataset/TEST_SET/BANANA/r2_87_100.jpg  \n",
        "  inflating: Dataset/TEST_SET/BANANA/r2_88_100.jpg  \n",
        "  inflating: Dataset/TEST_SET/WATERMELON/143_100.jpg  \n",
        "  inflating: Dataset/TEST_SET/WATERMELON/142_100.jpg  \n",
        "  inflating: Dataset/TEST_SET/WATERMELON/146_100.jpg  \n",
        "  inflating: Dataset/TEST_SET/WATERMELON/144_100.jpg  \n",
        "  inflating: Dataset/TEST_SET/WATERMELON/205_100.jpg  \n",
        "  inflating: Dataset/TEST_SET/BANANA/r2_90_100.jpg  \n",
        "  inflating: Dataset/TEST_SET/WATERMELON/138_100.jpg  \n",
        "  inflating: Dataset/TEST_SET/BANANA/r2_44_100.jpg  \n",
        "  inflating: Dataset/TEST_SET/WATERMELON/178_100.jpg  \n",
        "  inflating: Dataset/TEST_SET/BANANA/r2_48_100.jpg  \n",
        "  inflating: Dataset/TEST_SET/WATERMELON/137_100.jpg  \n",
        "  inflating: Dataset/TEST_SET/WATERMELON/188_100.jpg  \n",
        "  inflating: Dataset/TEST_SET/WATERMELON/186_100.jpg  \n",
        "  inflating: Dataset/TEST_SET/BANANA/r2_43_100.jpg  \n",
        "  inflating: Dataset/TEST_SET/BANANA/r2_140_100.jpg  \n",
        "  inflating: Dataset/TEST_SET/WATERMELON/139_100.jpg  \n",
        "  inflating: Dataset/TEST_SET/WATERMELON/183_100.jpg  \n",
        "  inflating: Dataset/TEST_SET/WATERMELON/189_100.jpg  \n",
        "  inflating: Dataset/TEST_SET/WATERMELON/148_100.jpg  \n",
        "  inflating: Dataset/TEST_SET/BANANA/r_158_100.jpg  \n",
        "  inflating: Dataset/TEST_SET/BANANA/r2_93_100.jpg  \n",
        "  inflating: Dataset/TEST_SET/WATERMELON/152_100.jpg  \n",
        "  inflating: Dataset/TEST_SET/WATERMELON/150_100.jpg  \n",
        "  inflating: Dataset/TEST_SET/BANANA/r_149_100.jpg  \n",
        "  inflating: Dataset/TEST_SET/BANANA/r_155_100.jpg  \n",
        "  inflating: Dataset/TEST_SET/BANANA/r_151_100.jpg  \n",
        "  inflating: Dataset/TEST_SET/BANANA/r2_46_100.jpg  \n",
        "  inflating: Dataset/TEST_SET/BANANA/r_147_100.jpg  \n",
        "  inflating: Dataset/TEST_SET/WATERMELON/131_100.jpg  \n",
        "  inflating: Dataset/TEST_SET/BANANA/r2_89_100.jpg  \n",
        "  inflating: Dataset/TEST_SET/BANANA/r_153_100.jpg  \n",
        "  inflating: Dataset/TEST_SET/BANANA/r_144_100.jpg  \n",
        "  inflating: Dataset/TEST_SET/WATERMELON/129_100.jpg  \n",
        "  inflating: Dataset/TEST_SET/BANANA/r_148_100.jpg  \n",
        "  inflating: Dataset/TEST_SET/WATERMELON/130_100.jpg  \n",
        "  inflating: Dataset/TEST_SET/WATERMELON/134_100.jpg  \n",
        "  inflating: Dataset/TEST_SET/WATERMELON/125_100.jpg  \n",
        "  inflating: Dataset/TEST_SET/WATERMELON/132_100.jpg  \n",
        "  inflating: Dataset/TEST_SET/BANANA/r_135_100.jpg  \n",
        "  inflating: Dataset/TEST_SET/WATERMELON/126_100.jpg  \n",
        "  inflating: Dataset/TEST_SET/BANANA/r_145_100.jpg  \n",
        "  inflating: Dataset/TEST_SET/WATERMELON/135_100.jpg  \n",
        "  inflating: Dataset/TEST_SET/BANANA/r_152_100.jpg  \n",
        "  inflating: Dataset/TEST_SET/WATERMELON/133_100.jpg  \n",
        "  inflating: Dataset/TEST_SET/BANANA/r_157_100.jpg  \n",
        "  inflating: Dataset/TEST_SET/BANANA/r_139_100.jpg  \n",
        "  inflating: Dataset/TEST_SET/BANANA/r_134_100.jpg  \n",
        "  inflating: Dataset/TEST_SET/BANANA/r_141_100.jpg  \n",
        "  inflating: Dataset/TEST_SET/BANANA/r_142_100.jpg  \n",
        "  inflating: Dataset/TEST_SET/BANANA/r_140_100.jpg  \n",
        "  inflating: Dataset/TEST_SET/BANANA/r_138_100.jpg  \n",
        "  inflating: Dataset/TEST_SET/BANANA/r_159_100.jpg  \n",
        "  inflating: Dataset/TEST_SET/BANANA/r_154_100.jpg  \n",
        "  inflating: Dataset/TEST_SET/BANANA/r_133_100.jpg  \n",
        "  inflating: Dataset/TEST_SET/BANANA/r_64_100.jpg  \n",
        "  inflating: Dataset/TEST_SET/BANANA/r_143_100.jpg  \n",
        "  inflating: Dataset/TEST_SET/BANANA/r_137_100.jpg  \n",
        "  inflating: Dataset/TEST_SET/BANANA/r_136_100.jpg  \n",
        "  inflating: Dataset/TEST_SET/BANANA/157_100.jpg  \n",
        "  inflating: Dataset/TEST_SET/BANANA/144_100.jpg  \n",
        "  inflating: Dataset/TEST_SET/BANANA/149_100.jpg  \n",
        "  inflating: Dataset/TEST_SET/BANANA/152_100.jpg  \n",
        "  inflating: Dataset/TEST_SET/BANANA/148_100.jpg  \n",
        "  inflating: Dataset/TEST_SET/BANANA/155_100.jpg  \n",
        "  inflating: Dataset/TEST_SET/BANANA/139_100.jpg  \n",
        "  inflating: Dataset/TEST_SET/WATERMELON/136_100.jpg  \n",
        "  inflating: Dataset/TEST_SET/BANANA/r_146_100.jpg  \n",
        "  inflating: Dataset/TEST_SET/BANANA/154_100.jpg  \n",
        "  inflating: Dataset/TEST_SET/BANANA/135_100.jpg  \n",
        "  inflating: Dataset/TEST_SET/BANANA/142_100.jpg  \n",
        "  inflating: Dataset/TEST_SET/BANANA/r_156_100.jpg  \n",
        "  inflating: Dataset/TEST_SET/BANANA/r2_47_100.jpg  \n",
        "  inflating: Dataset/TEST_SET/BANANA/147_100.jpg  \n",
        "  inflating: Dataset/TEST_SET/BANANA/r_150_100.jpg  \n",
        "  inflating: Dataset/TEST_SET/BANANA/53_100.jpg  \n",
        "  inflating: Dataset/TEST_SET/BANANA/150_100.jpg  \n",
        "  inflating: Dataset/TEST_SET/BANANA/134_100.jpg  \n",
        "  inflating: Dataset/TEST_SET/BANANA/r_131_100.jpg  \n",
        "  inflating: Dataset/TEST_SET/BANANA/145_100.jpg  \n",
        "  inflating: Dataset/TEST_SET/BANANA/46_100.jpg  \n",
        "  inflating: Dataset/TEST_SET/BANANA/136_100.jpg  \n",
        "  inflating: Dataset/TEST_SET/BANANA/48_100.jpg  \n",
        "  inflating: Dataset/TEST_SET/BANANA/138_100.jpg  \n",
        "  inflating: Dataset/TEST_SET/BANANA/43_100.jpg  \n",
        "  inflating: Dataset/TEST_SET/BANANA/50_100.jpg  \n",
        "  inflating: Dataset/TEST_SET/BANANA/51_100.jpg  \n",
        "  inflating: Dataset/TEST_SET/BANANA/54_100.jpg  \n",
        "  inflating: Dataset/TEST_SET/BANANA/49_100.jpg  \n",
        "  inflating: Dataset/TEST_SET/BANANA/146_100.jpg  \n",
        "  inflating: Dataset/TEST_SET/BANANA/38_100.jpg  \n",
        "  inflating: Dataset/TEST_SET/BANANA/47_100.jpg  \n",
        "  inflating: Dataset/TEST_SET/BANANA/44_100.jpg  \n",
        "  inflating: Dataset/TEST_SET/BANANA/42_100.jpg  \n",
        "  inflating: Dataset/TEST_SET/BANANA/151_100.jpg  \n",
        "  inflating: Dataset/TEST_SET/BANANA/r_132_100.jpg  \n",
        "  inflating: Dataset/TEST_SET/BANANA/r_65_100.jpg  \n",
        "  inflating: Dataset/TEST_SET/BANANA/35_100.jpg  \n",
        "  inflating: Dataset/TEST_SET/BANANA/137_100.jpg  \n",
        "  inflating: Dataset/TEST_SET/BANANA/52_100.jpg  \n",
        "  inflating: Dataset/TEST_SET/BANANA/41_100.jpg  \n",
        "  inflating: Dataset/TEST_SET/BANANA/156_100.jpg  \n",
        "  inflating: Dataset/TEST_SET/BANANA/r_59_100.jpg  \n",
        "  inflating: Dataset/TEST_SET/BANANA/r_60_100.jpg  \n",
        "  inflating: Dataset/TEST_SET/BANANA/140_100.jpg  \n",
        "  inflating: Dataset/TEST_SET/BANANA/r_72_100.jpg  \n",
        "  inflating: Dataset/TEST_SET/BANANA/r_56_100.jpg  \n",
        "  inflating: Dataset/TEST_SET/BANANA/r_57_100.jpg  \n",
        "  inflating: Dataset/TEST_SET/BANANA/r_69_100.jpg  \n",
        "  inflating: Dataset/TEST_SET/BANANA/153_100.jpg  \n",
        "  inflating: Dataset/TEST_SET/BANANA/r_68_100.jpg  \n",
        "  inflating: Dataset/TEST_SET/BANANA/40_100.jpg  \n",
        "  inflating: Dataset/TEST_SET/BANANA/141_100.jpg  \n",
        "  inflating: Dataset/TEST_SET/BANANA/55_100.jpg  \n",
        "  inflating: Dataset/TEST_SET/BANANA/r_46_100.jpg  \n",
        "  inflating: Dataset/TEST_SET/BANANA/r_44_100.jpg  \n",
        "  inflating: Dataset/TEST_SET/BANANA/r_73_100.jpg  \n",
        "  inflating: Dataset/TEST_SET/BANANA/37_100.jpg  \n",
        "  inflating: Dataset/TEST_SET/BANANA/r_70_100.jpg  \n",
        "  inflating: Dataset/TEST_SET/BANANA/143_100.jpg  \n",
        "  inflating: Dataset/TEST_SET/BANANA/r_50_100.jpg  \n",
        "  inflating: Dataset/TEST_SET/BANANA/r_67_100.jpg  \n",
        "  inflating: Dataset/TEST_SET/BANANA/r_51_100.jpg  \n",
        "  inflating: Dataset/TEST_SET/BANANA/r_71_100.jpg  \n",
        "  inflating: Dataset/TEST_SET/BANANA/r_66_100.jpg  \n",
        "  inflating: Dataset/TEST_SET/BANANA/r_49_100.jpg  \n",
        "  inflating: Dataset/TEST_SET/BANANA/r_61_100.jpg  \n",
        "  inflating: Dataset/TEST_SET/BANANA/r_43_100.jpg  \n",
        "  inflating: Dataset/TEST_SET/BANANA/r_34_100.jpg  \n",
        "  inflating: Dataset/TEST_SET/BANANA/45_100.jpg  \n",
        "  inflating: Dataset/TEST_SET/BANANA/r_54_100.jpg  \n",
        "  inflating: Dataset/TEST_SET/BANANA/r_325_100.jpg  \n",
        "  inflating: Dataset/TEST_SET/BANANA/56_100.jpg  \n",
        "  inflating: Dataset/TEST_SET/BANANA/r_38_100.jpg  \n",
        "  inflating: Dataset/TEST_SET/BANANA/r_39_100.jpg  \n",
        "  inflating: Dataset/TEST_SET/BANANA/r_45_100.jpg  \n",
        "  inflating: Dataset/TEST_SET/BANANA/39_100.jpg  \n",
        "  inflating: Dataset/TEST_SET/BANANA/r_320_100.jpg  \n",
        "  inflating: Dataset/TEST_SET/BANANA/r_317_100.jpg  \n",
        "  inflating: Dataset/TEST_SET/BANANA/r_245_100.jpg  \n",
        "  inflating: Dataset/TEST_SET/BANANA/r_37_100.jpg  \n",
        "  inflating: Dataset/TEST_SET/BANANA/r_36_100.jpg  \n",
        "  inflating: Dataset/TEST_SET/BANANA/r_35_100.jpg  \n",
        "  inflating: Dataset/TEST_SET/BANANA/r_24_100.jpg  \n",
        "  inflating: Dataset/TEST_SET/BANANA/r_31_100.jpg  \n",
        "  inflating: Dataset/TEST_SET/BANANA/r_32_100.jpg  \n",
        "  inflating: Dataset/TEST_SET/BANANA/r_42_100.jpg  \n",
        "  inflating: Dataset/TEST_SET/BANANA/r_321_100.jpg  \n",
        "  inflating: Dataset/TEST_SET/BANANA/r_48_100.jpg  \n",
        "  inflating: Dataset/TEST_SET/BANANA/r_319_100.jpg  \n",
        "  inflating: Dataset/TEST_SET/BANANA/r_327_100.jpg  \n",
        "  inflating: Dataset/TEST_SET/BANANA/r_25_100.jpg  \n",
        "  inflating: Dataset/TEST_SET/BANANA/r_316_100.jpg  \n",
        "  inflating: Dataset/TEST_SET/BANANA/r_40_100.jpg  \n",
        "  inflating: Dataset/TEST_SET/BANANA/r_63_100.jpg  \n",
        "  inflating: Dataset/TEST_SET/BANANA/r_246_100.jpg  \n",
        "  inflating: Dataset/TEST_SET/BANANA/r_234_100.jpg  \n",
        "  inflating: Dataset/TEST_SET/BANANA/r_28_100.jpg  \n",
        "  inflating: Dataset/TEST_SET/BANANA/r_52_100.jpg  \n",
        "  inflating: Dataset/TEST_SET/BANANA/r_47_100.jpg  \n",
        "  inflating: Dataset/TEST_SET/BANANA/r_242_100.jpg  \n",
        "  inflating: Dataset/TEST_SET/BANANA/r_230_100.jpg  \n",
        "  inflating: Dataset/TEST_SET/BANANA/r_228_100.jpg  \n",
        "  inflating: Dataset/TEST_SET/BANANA/r_18_100.jpg  \n",
        "  inflating: Dataset/TEST_SET/BANANA/r_326_100.jpg  \n",
        "  inflating: Dataset/TEST_SET/BANANA/r_233_100.jpg  \n",
        "  inflating: Dataset/TEST_SET/BANANA/r_239_100.jpg  \n",
        "  inflating: Dataset/TEST_SET/BANANA/r_29_100.jpg  \n",
        "  inflating: Dataset/TEST_SET/BANANA/r_236_100.jpg  \n",
        "  inflating: Dataset/TEST_SET/BANANA/r_33_100.jpg  \n",
        "  inflating: Dataset/TEST_SET/BANANA/r_232_100.jpg  \n",
        "  inflating: Dataset/TEST_SET/BANANA/r_235_100.jpg  \n",
        "  inflating: Dataset/TEST_SET/BANANA/36_100.jpg  \n",
        "  inflating: Dataset/TEST_SET/BANANA/r_19_100.jpg  \n",
        "  inflating: Dataset/TEST_SET/BANANA/r_238_100.jpg  \n",
        "  inflating: Dataset/TEST_SET/BANANA/r_229_100.jpg  \n",
        "  inflating: Dataset/TEST_SET/BANANA/r_12_100.jpg  \n",
        "  inflating: Dataset/TEST_SET/BANANA/99_100.jpg  \n",
        "  inflating: Dataset/TEST_SET/BANANA/321_100.jpg  \n",
        "  inflating: Dataset/TEST_SET/BANANA/r_41_100.jpg  \n",
        "  inflating: Dataset/TEST_SET/BANANA/320_100.jpg  \n",
        "  inflating: Dataset/TEST_SET/BANANA/r_16_100.jpg  \n",
        "  inflating: Dataset/TEST_SET/BANANA/317_100.jpg  \n",
        "  inflating: Dataset/TEST_SET/BANANA/r_226_100.jpg  \n",
        "  inflating: Dataset/TEST_SET/BANANA/r_23_100.jpg  \n",
        "  inflating: Dataset/TEST_SET/BANANA/33_100.jpg  \n",
        "  inflating: Dataset/TEST_SET/BANANA/r_240_100.jpg  \n",
        "  inflating: Dataset/TEST_SET/BANANA/32_100.jpg  \n",
        "  inflating: Dataset/TEST_SET/BANANA/r_241_100.jpg  \n",
        "  inflating: Dataset/TEST_SET/BANANA/319_100.jpg  \n",
        "  inflating: Dataset/TEST_SET/BANANA/314_100.jpg  \n",
        "  inflating: Dataset/TEST_SET/BANANA/r_15_100.jpg  \n",
        "  inflating: Dataset/TEST_SET/BANANA/r_227_100.jpg  \n",
        "  inflating: Dataset/TEST_SET/BANANA/308_100.jpg  \n",
        "  inflating: Dataset/TEST_SET/BANANA/r_237_100.jpg  \n",
        "  inflating: Dataset/TEST_SET/BANANA/303_100.jpg  \n",
        "  inflating: Dataset/TEST_SET/BANANA/98_100.jpg  \n",
        "  inflating: Dataset/TEST_SET/BANANA/r_244_100.jpg  \n",
        "  inflating: Dataset/TEST_SET/BANANA/r_30_100.jpg  \n",
        "  inflating: Dataset/TEST_SET/BANANA/322_100.jpg  \n",
        "  inflating: Dataset/TEST_SET/BANANA/r_231_100.jpg  \n",
        "  inflating: Dataset/TEST_SET/BANANA/311_100.jpg  \n",
        "  inflating: Dataset/TEST_SET/BANANA/316_100.jpg  \n",
        "  inflating: Dataset/TEST_SET/BANANA/r_223_100.jpg  \n",
        "  inflating: Dataset/TEST_SET/BANANA/r_243_100.jpg  \n",
        "  inflating: Dataset/TEST_SET/BANANA/309_100.jpg  \n",
        "  inflating: Dataset/TEST_SET/BANANA/30_100.jpg  \n",
        "  inflating: Dataset/TEST_SET/BANANA/307_100.jpg  \n",
        "  inflating: Dataset/TEST_SET/BANANA/299_100.jpg  \n",
        "  inflating: Dataset/TEST_SET/BANANA/28_100.jpg  \n",
        "  inflating: Dataset/TEST_SET/BANANA/305_100.jpg  \n",
        "  inflating: Dataset/TEST_SET/BANANA/301_100.jpg  \n",
        "  inflating: Dataset/TEST_SET/BANANA/296_100.jpg  \n",
        "  inflating: Dataset/TEST_SET/BANANA/295_100.jpg  \n",
        "  inflating: Dataset/TEST_SET/BANANA/294_100.jpg  \n",
        "  inflating: Dataset/TEST_SET/BANANA/31_100.jpg  \n",
        "  inflating: Dataset/TEST_SET/BANANA/298_100.jpg  \n",
        "  inflating: Dataset/TEST_SET/BANANA/304_100.jpg  \n",
        "  inflating: Dataset/TEST_SET/BANANA/313_100.jpg  \n",
        "  inflating: Dataset/TEST_SET/BANANA/r_14_100.jpg  \n",
        "  inflating: Dataset/TEST_SET/BANANA/318_100.jpg  \n",
        "  inflating: Dataset/TEST_SET/BANANA/297_100.jpg  \n",
        "  inflating: Dataset/TEST_SET/BANANA/26_100.jpg  \n",
        "  inflating: Dataset/TEST_SET/PINEAPPLE/r_236_100.jpg  \n",
        "  inflating: Dataset/TEST_SET/BANANA/312_100.jpg  \n",
        "  inflating: Dataset/TEST_SET/BANANA/29_100.jpg  \n",
        "  inflating: Dataset/TEST_SET/BANANA/315_100.jpg  \n",
        "  inflating: Dataset/TEST_SET/BANANA/27_100.jpg  \n",
        "  inflating: Dataset/TEST_SET/PINEAPPLE/r_235_100.jpg  \n",
        "  inflating: Dataset/TEST_SET/PINEAPPLE/r_182_100.jpg  \n",
        "  inflating: Dataset/TEST_SET/PINEAPPLE/r_320_100.jpg  \n",
        "  inflating: Dataset/TEST_SET/PINEAPPLE/r_234_100.jpg  \n",
        "  inflating: Dataset/TEST_SET/BANANA/24_100.jpg  \n",
        "  inflating: Dataset/TEST_SET/BANANA/34_100.jpg  \n",
        "  inflating: Dataset/TEST_SET/PINEAPPLE/r_326_100.jpg  \n",
        "  inflating: Dataset/TEST_SET/BANANA/25_100.jpg  \n",
        "  inflating: Dataset/TEST_SET/PINEAPPLE/r_185_100.jpg  \n",
        "  inflating: Dataset/TEST_SET/BANANA/306_100.jpg  \n",
        "  inflating: Dataset/TEST_SET/PINEAPPLE/r_327_100.jpg  \n",
        "  inflating: Dataset/TEST_SET/PINEAPPLE/r_167_100.jpg  \n",
        "  inflating: Dataset/TEST_SET/PINEAPPLE/r_230_100.jpg  \n",
        "  inflating: Dataset/TEST_SET/PINEAPPLE/r_233_100.jpg  \n",
        "  inflating: Dataset/TEST_SET/PINEAPPLE/r_239_100.jpg  \n",
        "  inflating: Dataset/TEST_SET/PINEAPPLE/r_305_100.jpg  \n",
        "  inflating: Dataset/TEST_SET/PINEAPPLE/r_325_100.jpg  \n",
        "  inflating: Dataset/TEST_SET/PINEAPPLE/r_229_100.jpg  \n",
        "  inflating: Dataset/TEST_SET/PINEAPPLE/r_166_100.jpg  \n",
        "  inflating: Dataset/TEST_SET/PINEAPPLE/r_173_100.jpg  \n",
        "  inflating: Dataset/TEST_SET/PINEAPPLE/r_53_100.jpg  \n",
        "  inflating: Dataset/TEST_SET/PINEAPPLE/r_238_100.jpg  \n",
        "  inflating: Dataset/TEST_SET/PINEAPPLE/r_164_100.jpg  \n",
        "  inflating: Dataset/TEST_SET/PINEAPPLE/r_165_100.jpg  \n",
        "  inflating: Dataset/TEST_SET/BANANA/310_100.jpg  \n",
        "  inflating: Dataset/TEST_SET/PINEAPPLE/r_174_100.jpg  \n",
        "  inflating: Dataset/TEST_SET/PINEAPPLE/r_175_100.jpg  \n",
        "  inflating: Dataset/TEST_SET/PINEAPPLE/r_231_100.jpg  \n",
        "  inflating: Dataset/TEST_SET/BANANA/302_100.jpg  \n",
        "  inflating: Dataset/TEST_SET/PINEAPPLE/r_42_100.jpg  \n",
        "  inflating: Dataset/TEST_SET/BANANA/21_100.jpg  \n",
        "  inflating: Dataset/TEST_SET/PINEAPPLE/r_55_100.jpg  \n",
        "  inflating: Dataset/TEST_SET/PINEAPPLE/r_52_100.jpg  \n",
        "  inflating: Dataset/TEST_SET/PINEAPPLE/r_56_100.jpg  \n",
        "  inflating: Dataset/TEST_SET/PINEAPPLE/r_44_100.jpg  \n",
        "  inflating: Dataset/TEST_SET/PINEAPPLE/r_43_100.jpg  \n",
        "  inflating: Dataset/TEST_SET/PINEAPPLE/r_232_100.jpg  \n",
        "  inflating: Dataset/TEST_SET/BANANA/300_100.jpg  \n",
        "  inflating: Dataset/TEST_SET/PINEAPPLE/r_172_100.jpg  \n",
        "  inflating: Dataset/TEST_SET/PINEAPPLE/r_171_100.jpg  \n",
        "  inflating: Dataset/TEST_SET/PINEAPPLE/r_50_100.jpg  \n",
        "  inflating: Dataset/TEST_SET/PINEAPPLE/r_49_100.jpg  \n",
        "  inflating: Dataset/TEST_SET/PINEAPPLE/r_45_100.jpg  \n",
        "  inflating: Dataset/TEST_SET/PINEAPPLE/r_324_100.jpg  \n",
        "  inflating: Dataset/TEST_SET/PINEAPPLE/r_41_100.jpg  \n",
        "  inflating: Dataset/TEST_SET/PINEAPPLE/r_48_100.jpg  \n",
        "  inflating: Dataset/TEST_SET/PINEAPPLE/r_38_100.jpg  \n",
        "  inflating: Dataset/TEST_SET/PINEAPPLE/r_168_100.jpg  \n",
        "  inflating: Dataset/TEST_SET/PINEAPPLE/r_17_100.jpg  \n",
        "  inflating: Dataset/TEST_SET/PINEAPPLE/r_39_100.jpg  \n",
        "  inflating: Dataset/TEST_SET/PINEAPPLE/r_32_100.jpg  \n",
        "  inflating: Dataset/TEST_SET/PINEAPPLE/r_46_100.jpg  \n",
        "  inflating: Dataset/TEST_SET/PINEAPPLE/r_47_100.jpg  \n",
        "  inflating: Dataset/TEST_SET/PINEAPPLE/r_25_100.jpg  \n",
        "  inflating: Dataset/TEST_SET/PINEAPPLE/r_40_100.jpg  \n",
        "  inflating: Dataset/TEST_SET/PINEAPPLE/r_29_100.jpg  \n",
        "  inflating: Dataset/TEST_SET/PINEAPPLE/r_28_100.jpg  \n",
        "  inflating: Dataset/TEST_SET/PINEAPPLE/r_26_100.jpg  \n",
        "  inflating: Dataset/TEST_SET/PINEAPPLE/r_21_100.jpg  \n",
        "  inflating: Dataset/TEST_SET/PINEAPPLE/r_19_100.jpg  \n",
        "  inflating: Dataset/TEST_SET/PINEAPPLE/r_35_100.jpg  \n",
        "  inflating: Dataset/TEST_SET/PINEAPPLE/r_34_100.jpg  \n",
        "  inflating: Dataset/TEST_SET/PINEAPPLE/303_100.jpg  \n",
        "  inflating: Dataset/TEST_SET/PINEAPPLE/r_27_100.jpg  \n",
        "  inflating: Dataset/TEST_SET/PINEAPPLE/r_24_100.jpg  \n",
        "  inflating: Dataset/TEST_SET/PINEAPPLE/r_37_100.jpg  \n",
        "  inflating: Dataset/TEST_SET/PINEAPPLE/299_100.jpg  \n",
        "  inflating: Dataset/TEST_SET/PINEAPPLE/r_36_100.jpg  \n",
        "  inflating: Dataset/TEST_SET/PINEAPPLE/r_23_100.jpg  \n",
        "  inflating: Dataset/TEST_SET/PINEAPPLE/316_100.jpg  \n",
        "  inflating: Dataset/TEST_SET/PINEAPPLE/r_16_100.jpg  \n",
        "  inflating: Dataset/TEST_SET/PINEAPPLE/r_33_100.jpg  \n",
        "  inflating: Dataset/TEST_SET/PINEAPPLE/297_100.jpg  \n",
        "  inflating: Dataset/TEST_SET/PINEAPPLE/137_100.jpg  \n",
        "  inflating: Dataset/TEST_SET/PINEAPPLE/145_100.jpg  \n",
        "  inflating: Dataset/TEST_SET/PINEAPPLE/131_100.jpg  \n",
        "  inflating: Dataset/TEST_SET/PINEAPPLE/305_100.jpg  \n",
        "  inflating: Dataset/TEST_SET/PINEAPPLE/296_100.jpg  \n",
        "  inflating: Dataset/TEST_SET/PINEAPPLE/259_100.jpg  \n",
        "  inflating: Dataset/TEST_SET/PINEAPPLE/310_100.jpg  \n",
        "  inflating: Dataset/TEST_SET/PINEAPPLE/314_100.jpg  \n",
        "  inflating: Dataset/TEST_SET/PINEAPPLE/r_31_100.jpg  \n",
        "  inflating: Dataset/TEST_SET/PINEAPPLE/r_18_100.jpg  \n",
        "  inflating: Dataset/TEST_SET/PINEAPPLE/r_30_100.jpg  \n",
        "  inflating: Dataset/TEST_SET/PINEAPPLE/295_100.jpg  \n",
        "  inflating: Dataset/TEST_SET/PINEAPPLE/308_100.jpg  \n",
        "  inflating: Dataset/TEST_SET/PINEAPPLE/301_100.jpg  \n",
        "  inflating: Dataset/TEST_SET/PINEAPPLE/r_22_100.jpg  \n",
        "  inflating: Dataset/TEST_SET/PINEAPPLE/265_100.jpg  \n",
        "  inflating: Dataset/TEST_SET/PINEAPPLE/258_100.jpg  \n",
        "  inflating: Dataset/TEST_SET/PINEAPPLE/293_100.jpg  \n",
        "  inflating: Dataset/TEST_SET/PINEAPPLE/132_100.jpg  \n",
        "  inflating: Dataset/TEST_SET/PINEAPPLE/133_100.jpg  \n",
        "  inflating: Dataset/TEST_SET/PINEAPPLE/325_100.jpg  \n",
        "  inflating: Dataset/TEST_SET/PINEAPPLE/327_100.jpg  \n",
        "  inflating: Dataset/TEST_SET/PINEAPPLE/134_100.jpg  \n",
        "  inflating: Dataset/TEST_SET/PINEAPPLE/128_100.jpg  \n",
        "  inflating: Dataset/TEST_SET/PINEAPPLE/56_100.jpg  \n",
        "  inflating: Dataset/TEST_SET/PINEAPPLE/140_100.jpg  \n",
        "  inflating: Dataset/TEST_SET/PINEAPPLE/298_100.jpg  \n",
        "  inflating: Dataset/TEST_SET/PINEAPPLE/67_100.jpg  \n",
        "  inflating: Dataset/TEST_SET/PINEAPPLE/122_100.jpg  \n",
        "  inflating: Dataset/TEST_SET/PINEAPPLE/53_100.jpg  \n",
        "  inflating: Dataset/TEST_SET/PINEAPPLE/73_100.jpg  \n",
        "  inflating: Dataset/TEST_SET/PINEAPPLE/257_100.jpg  \n",
        "  inflating: Dataset/TEST_SET/PINEAPPLE/136_100.jpg  \n",
        "  inflating: Dataset/TEST_SET/PINEAPPLE/66_100.jpg  \n",
        "  inflating: Dataset/TEST_SET/PINEAPPLE/62_100.jpg  \n",
        "  inflating: Dataset/TEST_SET/PINEAPPLE/129_100.jpg  \n",
        "  inflating: Dataset/TEST_SET/PINEAPPLE/130_100.jpg  \n",
        "  inflating: Dataset/TEST_SET/PINEAPPLE/123_100.jpg  \n",
        "  inflating: Dataset/TEST_SET/PINEAPPLE/60_100.jpg  \n",
        "  inflating: Dataset/TEST_SET/PINEAPPLE/57_100.jpg  \n",
        "  inflating: Dataset/TEST_SET/PINEAPPLE/294_100.jpg  \n",
        "  inflating: Dataset/TEST_SET/PINEAPPLE/19_100.jpg  \n",
        "  inflating: Dataset/TEST_SET/PINEAPPLE/272_100.jpg  \n",
        "  inflating: Dataset/TEST_SET/PINEAPPLE/31_100.jpg  \n",
        "  inflating: Dataset/TEST_SET/PINEAPPLE/23_100.jpg  \n",
        "  inflating: Dataset/TEST_SET/PINEAPPLE/135_100.jpg  \n",
        "  inflating: Dataset/TEST_SET/PINEAPPLE/21_100.jpg  \n",
        "  inflating: Dataset/TEST_SET/PINEAPPLE/33_100.jpg  \n",
        "  inflating: Dataset/TEST_SET/PINEAPPLE/20_100.jpg  \n",
        "  inflating: Dataset/TEST_SET/PINEAPPLE/r_81_100.jpg  \n",
        "  inflating: Dataset/TEST_SET/PINEAPPLE/r_77_100.jpg  \n",
        "  inflating: Dataset/TEST_SET/PINEAPPLE/124_100.jpg  \n",
        "  inflating: Dataset/TEST_SET/PINEAPPLE/79_100.jpg  \n",
        "  inflating: Dataset/TEST_SET/PINEAPPLE/r_79_100.jpg  \n",
        "  inflating: Dataset/TEST_SET/PINEAPPLE/r_275_100.jpg  \n",
        "  inflating: Dataset/TEST_SET/PINEAPPLE/r_87_100.jpg  \n",
        "  inflating: Dataset/TEST_SET/PINEAPPLE/125_100.jpg  \n",
        "  inflating: Dataset/TEST_SET/PINEAPPLE/r_80_100.jpg  \n",
        "  inflating: Dataset/TEST_SET/PINEAPPLE/r_88_100.jpg  \n",
        "  inflating: Dataset/TEST_SET/PINEAPPLE/r_84_100.jpg  \n",
        "  inflating: Dataset/TEST_SET/PINEAPPLE/r_74_100.jpg  \n",
        "  inflating: Dataset/TEST_SET/PINEAPPLE/40_100.jpg  \n",
        "  inflating: Dataset/TEST_SET/PINEAPPLE/r_83_100.jpg  \n",
        "  inflating: Dataset/TEST_SET/PINEAPPLE/r_276_100.jpg  \n",
        "  inflating: Dataset/TEST_SET/PINEAPPLE/r_71_100.jpg  \n",
        "  inflating: Dataset/TEST_SET/PINEAPPLE/r_243_100.jpg  \n",
        "  inflating: Dataset/TEST_SET/PINEAPPLE/r_282_100.jpg  \n",
        "  inflating: Dataset/TEST_SET/PINEAPPLE/r_278_100.jpg  \n",
        "  inflating: Dataset/TEST_SET/PINEAPPLE/r_225_100.jpg  \n",
        "  inflating: Dataset/TEST_SET/PINEAPPLE/55_100.jpg  \n",
        "  inflating: Dataset/TEST_SET/PINEAPPLE/r_223_100.jpg  \n",
        "  inflating: Dataset/TEST_SET/PINEAPPLE/126_100.jpg  \n",
        "  inflating: Dataset/TEST_SET/PINEAPPLE/r_62_100.jpg  \n",
        "  inflating: Dataset/TEST_SET/PINEAPPLE/r_58_100.jpg  \n",
        "  inflating: Dataset/TEST_SET/PINEAPPLE/r_76_100.jpg  \n",
        "  inflating: Dataset/TEST_SET/PINEAPPLE/r_75_100.jpg  \n",
        "  inflating: Dataset/TEST_SET/PINEAPPLE/r_227_100.jpg  \n",
        "  inflating: Dataset/TEST_SET/PINEAPPLE/r_228_100.jpg  \n",
        "  inflating: Dataset/TEST_SET/PINEAPPLE/127_100.jpg  \n",
        "  inflating: Dataset/TEST_SET/PINEAPPLE/r_277_100.jpg  \n",
        "  inflating: Dataset/TEST_SET/PINEAPPLE/r_216_100.jpg  \n",
        "  inflating: Dataset/TEST_SET/PINEAPPLE/r_219_100.jpg  \n",
        "  inflating: Dataset/TEST_SET/PINEAPPLE/r_273_100.jpg  \n",
        "  inflating: Dataset/TEST_SET/PINEAPPLE/2_100.jpg  \n",
        "  inflating: Dataset/TEST_SET/PINEAPPLE/59_100.jpg  \n",
        "  inflating: Dataset/TEST_SET/PINEAPPLE/r_224_100.jpg  \n",
        "  inflating: Dataset/TEST_SET/PINEAPPLE/r_274_100.jpg  \n",
        "  inflating: Dataset/TEST_SET/PINEAPPLE/r_226_100.jpg  \n",
        "  inflating: Dataset/TEST_SET/PINEAPPLE/r_222_100.jpg  \n",
        "  inflating: Dataset/TEST_SET/PINEAPPLE/0_100.jpg  \n",
        "  inflating: Dataset/TEST_SET/PINEAPPLE/86_100.jpg  \n",
        "  inflating: Dataset/TEST_SET/PINEAPPLE/1_100.jpg  \n",
        "  inflating: Dataset/TEST_SET/PINEAPPLE/30_100.jpg  \n",
        "  inflating: Dataset/TEST_SET/PINEAPPLE/r_205_100.jpg  \n",
        "  inflating: Dataset/TEST_SET/PINEAPPLE/r_209_100.jpg  \n",
        "  inflating: Dataset/TEST_SET/PINEAPPLE/r_191_100.jpg  \n",
        "  inflating: Dataset/TEST_SET/PINEAPPLE/r_190_100.jpg  \n",
        "  inflating: Dataset/TEST_SET/PINEAPPLE/r_210_100.jpg  \n",
        "  inflating: Dataset/TEST_SET/PINEAPPLE/r_217_100.jpg  \n",
        "  inflating: Dataset/TEST_SET/PINEAPPLE/r_214_100.jpg  \n",
        "  inflating: Dataset/TEST_SET/PINEAPPLE/r_237_100.jpg  \n",
        "  inflating: Dataset/TEST_SET/PINEAPPLE/r_206_100.jpg  \n",
        "  inflating: Dataset/TEST_SET/PINEAPPLE/r_218_100.jpg  \n",
        "  inflating: Dataset/TEST_SET/PINEAPPLE/r_220_100.jpg  \n",
        "  inflating: Dataset/TEST_SET/BANANA/23_100.jpg  \n",
        "  inflating: Dataset/TEST_SET/PINEAPPLE/r_212_100.jpg  \n",
        "  inflating: Dataset/TEST_SET/PINEAPPLE/r_208_100.jpg  \n",
        "  inflating: Dataset/TEST_SET/PINEAPPLE/r_213_100.jpg  \n",
        "  inflating: Dataset/TEST_SET/PINEAPPLE/r_215_100.jpg  \n",
        "  inflating: Dataset/TEST_SET/PINEAPPLE/r_155_100.jpg  \n",
        "  inflating: Dataset/TEST_SET/PINEAPPLE/r_221_100.jpg  \n",
        "  inflating: Dataset/TEST_SET/BANANA/19_100.jpg  \n",
        "  inflating: Dataset/TEST_SET/BANANA/169_100.jpg  \n",
        "  inflating: Dataset/TEST_SET/PINEAPPLE/r_201_100.jpg  \n",
        "  inflating: Dataset/TEST_SET/PINEAPPLE/r_198_100.jpg  \n",
        "  inflating: Dataset/TEST_SET/BANANA/22_100.jpg  \n",
        "  inflating: Dataset/TEST_SET/PINEAPPLE/r_149_100.jpg  \n",
        "  inflating: Dataset/TEST_SET/PINEAPPLE/r_200_100.jpg  \n",
        "  inflating: Dataset/TEST_SET/PINEAPPLE/r_129_100.jpg  \n",
        "  inflating: Dataset/TEST_SET/BANANA/165_100.jpg  \n",
        "  inflating: Dataset/TEST_SET/PINEAPPLE/r_144_100.jpg  \n",
        "  inflating: Dataset/TEST_SET/PINEAPPLE/r_199_100.jpg  \n",
        "  inflating: Dataset/TEST_SET/BANANA/167_100.jpg  \n",
        "  inflating: Dataset/TEST_SET/PINEAPPLE/r_203_100.jpg  \n",
        "  inflating: Dataset/TEST_SET/PINEAPPLE/r_131_100.jpg  \n",
        "  inflating: Dataset/TEST_SET/BANANA/168_100.jpg  \n",
        "  inflating: Dataset/TEST_SET/PINEAPPLE/r_211_100.jpg  \n",
        "  inflating: Dataset/TEST_SET/PINEAPPLE/r_128_100.jpg  \n",
        "  inflating: Dataset/TEST_SET/BANANA/164_100.jpg  \n",
        "  inflating: Dataset/TEST_SET/PINEAPPLE/r_141_100.jpg  \n",
        "  inflating: Dataset/TEST_SET/PINEAPPLE/r_207_100.jpg  \n",
        "  inflating: Dataset/TEST_SET/PINEAPPLE/r_126_100.jpg  \n",
        "  inflating: Dataset/TEST_SET/BANANA/166_100.jpg  \n",
        "  inflating: Dataset/TEST_SET/PINEAPPLE/r_118_100.jpg  \n",
        "  inflating: Dataset/TEST_SET/PINEAPPLE/r_111_100.jpg  \n",
        "  inflating: Dataset/TEST_SET/PINEAPPLE/r_147_100.jpg  \n",
        "  inflating: Dataset/TEST_SET/PINEAPPLE/r_202_100.jpg  \n",
        "  inflating: Dataset/TEST_SET/BANANA/18_100.jpg  \n",
        "  inflating: Dataset/TEST_SET/BANANA/17_100.jpg  \n",
        "  inflating: Dataset/TEST_SET/BANANA/161_100.jpg  \n",
        "  inflating: Dataset/TEST_SET/PINEAPPLE/r_271_100.jpg  \n",
        "  inflating: Dataset/TEST_SET/BANANA/14_100.jpg  \n",
        "  inflating: Dataset/TEST_SET/BANANA/163_100.jpg  \n",
        "  inflating: Dataset/TEST_SET/PINEAPPLE/r_119_100.jpg  \n",
        "  inflating: Dataset/TEST_SET/PINEAPPLE/r_204_100.jpg  \n",
        "  inflating: Dataset/TEST_SET/BANANA/20_100.jpg  \n",
        "  inflating: Dataset/TEST_SET/PINEAPPLE/r_113_100.jpg  \n",
        "  inflating: Dataset/TEST_SET/PINEAPPLE/r_120_100.jpg  \n",
        "  inflating: Dataset/TEST_SET/BANANA/16_100.jpg  \n",
        "  inflating: Dataset/TEST_SET/BANANA/160_100.jpg  \n",
        "  inflating: Dataset/TEST_SET/BANANA/158_100.jpg  \n",
        "  inflating: Dataset/TEST_SET/BANANA/115_100.jpg  \n",
        "  inflating: Dataset/TEST_SET/PINEAPPLE/r_114_100.jpg  \n",
        "  inflating: Dataset/TEST_SET/BANANA/106_100.jpg  \n",
        "  inflating: Dataset/TEST_SET/PINEAPPLE/22_100.jpg  \n",
        "  inflating: Dataset/TEST_SET/PINEAPPLE/r_127_100.jpg  \n",
        "  inflating: Dataset/TEST_SET/PINEAPPLE/r_117_100.jpg  \n",
        "  inflating: Dataset/TEST_SET/PINEAPPLE/r_115_100.jpg  \n",
        "  inflating: Dataset/TEST_SET/PINEAPPLE/227_100.jpg  \n",
        "  inflating: Dataset/TEST_SET/BANANA/108_100.jpg  \n",
        "  inflating: Dataset/TEST_SET/BANANA/113_100.jpg  \n",
        "  inflating: Dataset/TEST_SET/PINEAPPLE/r_106_100.jpg  \n",
        "  inflating: Dataset/TEST_SET/BANANA/162_100.jpg  \n",
        "  inflating: Dataset/TEST_SET/PINEAPPLE/r_148_100.jpg  \n",
        "  inflating: Dataset/TEST_SET/PINEAPPLE/230_100.jpg  \n",
        "  inflating: Dataset/TEST_SET/PINEAPPLE/243_100.jpg  \n",
        "  inflating: Dataset/TEST_SET/PINEAPPLE/97_100.jpg  \n",
        "  inflating: Dataset/TEST_SET/PINEAPPLE/222_100.jpg  \n",
        "  inflating: Dataset/TEST_SET/PINEAPPLE/r_107_100.jpg  \n",
        "  inflating: Dataset/TEST_SET/PINEAPPLE/r_108_100.jpg  \n",
        "  inflating: Dataset/TEST_SET/BANANA/114_100.jpg  \n",
        "  inflating: Dataset/TEST_SET/PINEAPPLE/226_100.jpg  \n",
        "  inflating: Dataset/TEST_SET/PINEAPPLE/233_100.jpg  \n",
        "  inflating: Dataset/TEST_SET/PINEAPPLE/231_100.jpg  \n",
        "  inflating: Dataset/TEST_SET/PINEAPPLE/r_130_100.jpg  \n",
        "  inflating: Dataset/TEST_SET/BANANA/116_100.jpg  \n",
        "  inflating: Dataset/TEST_SET/BANANA/159_100.jpg  \n",
        "  inflating: Dataset/TEST_SET/PINEAPPLE/232_100.jpg  \n",
        "  inflating: Dataset/TEST_SET/PINEAPPLE/223_100.jpg  \n",
        "  inflating: Dataset/TEST_SET/PINEAPPLE/r_110_100.jpg  \n",
        "  inflating: Dataset/TEST_SET/PINEAPPLE/209_100.jpg  \n",
        "  inflating: Dataset/TEST_SET/PINEAPPLE/215_100.jpg  \n",
        "  inflating: Dataset/TEST_SET/BANANA/15_100.jpg  \n",
        "  inflating: Dataset/TEST_SET/BANANA/100_100.jpg  \n",
        "  inflating: Dataset/TEST_SET/PINEAPPLE/3_100.jpg  \n",
        "  inflating: Dataset/TEST_SET/BANANA/105_100.jpg  \n",
        "  inflating: Dataset/TEST_SET/PINEAPPLE/321_100.jpg  \n",
        "  inflating: Dataset/TEST_SET/PINEAPPLE/213_100.jpg  \n",
        "  inflating: Dataset/TEST_SET/PINEAPPLE/r_109_100.jpg  \n",
        "  inflating: Dataset/TEST_SET/BANANA/101_100.jpg  \n",
        "  inflating: Dataset/TEST_SET/PINEAPPLE/r_100_100.jpg  \n",
        "  inflating: Dataset/TEST_SET/PINEAPPLE/236_100.jpg  \n",
        "  inflating: Dataset/TEST_SET/BANANA/110_100.jpg  \n",
        "  inflating: Dataset/TEST_SET/PINEAPPLE/9_100.jpg  \n",
        "  inflating: Dataset/TEST_SET/BANANA/13_100.jpg  \n",
        "  inflating: Dataset/TEST_SET/BANANA/103_100.jpg  \n",
        "  inflating: Dataset/TEST_SET/PINEAPPLE/217_100.jpg  \n",
        "  inflating: Dataset/TEST_SET/PINEAPPLE/75_100.jpg  \n",
        "  inflating: Dataset/TEST_SET/PINEAPPLE/218_100.jpg  \n",
        "  inflating: Dataset/TEST_SET/PINEAPPLE/323_100.jpg  \n",
        "  inflating: Dataset/TEST_SET/BANANA/12_100.jpg  \n",
        "  inflating: Dataset/TEST_SET/PINEAPPLE/198_100.jpg  \n",
        "  inflating: Dataset/TEST_SET/PINEAPPLE/313_100.jpg  \n",
        "  inflating: Dataset/TEST_SET/PINEAPPLE/224_100.jpg  \n",
        "  inflating: Dataset/TEST_SET/PINEAPPLE/206_100.jpg  \n",
        "  inflating: Dataset/TEST_SET/PINEAPPLE/326_100.jpg  \n",
        "  inflating: Dataset/TEST_SET/PINEAPPLE/306_100.jpg  \n",
        "  inflating: Dataset/TEST_SET/PINEAPPLE/193_100.jpg  \n",
        "  inflating: Dataset/TEST_SET/PINEAPPLE/72_100.jpg  \n",
        "  inflating: Dataset/TEST_SET/PINEAPPLE/309_100.jpg  \n",
        "  inflating: Dataset/TEST_SET/BANANA/111_100.jpg  \n",
        "  inflating: Dataset/TEST_SET/BANANA/109_100.jpg  \n",
        "  inflating: Dataset/TEST_SET/PINEAPPLE/8_100.jpg  \n",
        "  inflating: Dataset/TEST_SET/PINEAPPLE/7_100.jpg  \n",
        "  inflating: Dataset/TEST_SET/PINEAPPLE/300_100.jpg  \n",
        "  inflating: Dataset/TEST_SET/PINEAPPLE/197_100.jpg  \n",
        "  inflating: Dataset/TEST_SET/PINEAPPLE/274_100.jpg  \n",
        "  inflating: Dataset/TEST_SET/PINEAPPLE/203_100.jpg  \n",
        "  inflating: Dataset/TEST_SET/PINEAPPLE/195_100.jpg  \n",
        "  inflating: Dataset/TEST_SET/BANANA/102_100.jpg  \n",
        "  inflating: Dataset/TEST_SET/PINEAPPLE/177_100.jpg  \n",
        "  inflating: Dataset/TEST_SET/PINEAPPLE/307_100.jpg  \n",
        "  inflating: Dataset/TEST_SET/PINEAPPLE/219_100.jpg  \n",
        "  inflating: Dataset/TEST_SET/PINEAPPLE/276_100.jpg  \n",
        "  inflating: Dataset/TEST_SET/PINEAPPLE/302_100.jpg  \n",
        "  inflating: Dataset/TEST_SET/PINEAPPLE/194_100.jpg  \n",
        "  inflating: Dataset/TEST_SET/PINEAPPLE/273_100.jpg  \n",
        "  inflating: Dataset/TEST_SET/PINEAPPLE/270_100.jpg  \n",
        "  inflating: Dataset/TEST_SET/PINEAPPLE/99_100.jpg  \n",
        "  inflating: Dataset/TEST_SET/PINEAPPLE/12_100.jpg  \n",
        "  inflating: Dataset/TEST_SET/PINEAPPLE/220_100.jpg  \n",
        "  inflating: Dataset/TEST_SET/PINEAPPLE/214_100.jpg  \n",
        "  inflating: Dataset/TEST_SET/PINEAPPLE/144_100.jpg  \n",
        "  inflating: Dataset/TEST_SET/PINEAPPLE/173_100.jpg  \n",
        "  inflating: Dataset/TEST_SET/PINEAPPLE/16_100.jpg  \n",
        "  inflating: Dataset/TEST_SET/PINEAPPLE/304_100.jpg  \n",
        "  inflating: Dataset/TEST_SET/PINEAPPLE/28_100.jpg  \n",
        "  inflating: Dataset/TEST_SET/PINEAPPLE/25_100.jpg  \n",
        "  inflating: Dataset/TEST_SET/PINEAPPLE/275_100.jpg  \n",
        "  inflating: Dataset/TEST_SET/PINEAPPLE/192_100.jpg  \n",
        "  inflating: Dataset/TEST_SET/PINEAPPLE/266_100.jpg  \n",
        "  inflating: Dataset/TEST_SET/PINEAPPLE/143_100.jpg  \n",
        "  inflating: Dataset/TEST_SET/PINEAPPLE/311_100.jpg  \n",
        "  inflating: Dataset/TEST_SET/PINEAPPLE/221_100.jpg  \n",
        "  inflating: Dataset/TEST_SET/PINEAPPLE/271_100.jpg  \n",
        "  inflating: Dataset/TEST_SET/PINEAPPLE/289_100.jpg  \n",
        "  inflating: Dataset/TEST_SET/PINEAPPLE/196_100.jpg  \n",
        "  inflating: Dataset/TEST_SET/PINEAPPLE/216_100.jpg  \n",
        "  inflating: Dataset/TEST_SET/PINEAPPLE/190_100.jpg  \n",
        "  inflating: Dataset/TEST_SET/PINEAPPLE/237_100.jpg  \n",
        "  inflating: Dataset/TEST_SET/PINEAPPLE/18_100.jpg  \n",
        "  inflating: Dataset/TEST_SET/PINEAPPLE/13_100.jpg  \n",
        "  inflating: Dataset/TEST_SET/PINEAPPLE/269_100.jpg  \n",
        "  inflating: Dataset/TEST_SET/PINEAPPLE/268_100.jpg  \n",
        "  inflating: Dataset/TEST_SET/PINEAPPLE/189_100.jpg  \n",
        "  inflating: Dataset/TEST_SET/PINEAPPLE/239_100.jpg  \n",
        "  inflating: Dataset/TEST_SET/PINEAPPLE/238_100.jpg  \n",
        "  inflating: Dataset/TEST_SET/PINEAPPLE/267_100.jpg  \n",
        "  inflating: Dataset/TEST_SET/PINEAPPLE/24_100.jpg  \n",
        "  inflating: Dataset/TEST_SET/PINEAPPLE/253_100.jpg  \n",
        "  inflating: Dataset/TEST_SET/PINEAPPLE/234_100.jpg  \n",
        "  inflating: Dataset/TEST_SET/PINEAPPLE/242_100.jpg  \n",
        "  inflating: Dataset/TEST_SET/PINEAPPLE/15_100.jpg  \n",
        "  inflating: Dataset/TEST_SET/PINEAPPLE/17_100.jpg  \n",
        "  inflating: Dataset/TEST_SET/PINEAPPLE/191_100.jpg  "
      ],
      "metadata": {
        "id": "7Tum9lt86n2c"
      }
    },
    {
      "cell_type": "markdown",
      "source": [
        "Image Augumentation"
      ],
      "metadata": {
        "id": "m5aDbQhd7A3S"
      }
    },
    {
      "cell_type": "code",
      "source": [
        "from tensorflow.keras.preprocessing.image import ImageDataGenerator#scaling,zooming\n"
      ],
      "metadata": {
        "id": "mgfwHwiL7DWD"
      },
      "execution_count": 5,
      "outputs": []
    },
    {
      "cell_type": "code",
      "source": [
        "train_datagen=ImageDataGenerator(rescale=1./255,zoom_range=0.2,shear_range=0.2,horizontal_flip=True,vertical_flip=True)\n"
      ],
      "metadata": {
        "id": "cw86EXb17dWG"
      },
      "execution_count": 7,
      "outputs": []
    },
    {
      "cell_type": "code",
      "source": [
        "test_datagen=ImageDataGenerator(rescale=1./255)\n"
      ],
      "metadata": {
        "id": "1w3PAwP67ybm"
      },
      "execution_count": 8,
      "outputs": []
    },
    {
      "cell_type": "markdown",
      "source": [
        "Applying Image data generator functionality to training set and testing set\n",
        "\n"
      ],
      "metadata": {
        "id": "OksCfnbe71xT"
      }
    },
    {
      "cell_type": "code",
      "source": [
        "x_train=train_datagen.flow_from_directory(r\"/content/drive/MyDrive/CNN/TRAIN_SET\",target_size=(64,64),class_mode=\"categorical\",batch_size=24)\n"
      ],
      "metadata": {
        "id": "QqikPoqI8L7a"
      },
      "execution_count": null,
      "outputs": []
    },
    {
      "cell_type": "markdown",
      "source": [
        "Found 2626 images belonging to 5 classes.\n"
      ],
      "metadata": {
        "id": "qoEm2n9_8U5Z"
      }
    },
    {
      "cell_type": "code",
      "source": [
        "x_test=test_datagen.flow_from_directory(r\"/content/drive/MyDrive/CNN/Dataset\",target_size=(64,64),class_mode=\"categorical\",batch_size=24)\n"
      ],
      "metadata": {
        "id": "8A7YRK2o8dU0"
      },
      "execution_count": null,
      "outputs": []
    },
    {
      "cell_type": "markdown",
      "source": [
        "Found 1055 images belonging to 1 classes.\n"
      ],
      "metadata": {
        "id": "39L2xDv88gRU"
      }
    },
    {
      "cell_type": "code",
      "source": [
        "x_train.class_indices\n"
      ],
      "metadata": {
        "id": "Apt8Uchj8vQz"
      },
      "execution_count": null,
      "outputs": []
    },
    {
      "cell_type": "markdown",
      "source": [
        "{'APPLES': 0, 'BANANA': 1, 'ORANGE': 2, 'PINEAPPLE': 3, 'WATERMELON': 4}\n"
      ],
      "metadata": {
        "id": "FTShj1oU81bd"
      }
    },
    {
      "cell_type": "markdown",
      "source": [
        "SPRINT-2:MODEL BUILDING AND TESTING\n",
        "\n"
      ],
      "metadata": {
        "id": "EC1dZO7j830s"
      }
    },
    {
      "cell_type": "code",
      "source": [
        "from tensorflow import keras\n",
        "from tensorflow.keras.models import Sequential\n",
        "from tensorflow.keras import layers\n",
        "from tensorflow.keras.layers import Dense,Flatten\n",
        "from tensorflow.keras.layers import Conv2D\n",
        "from tensorflow.keras.layers import MaxPooling2D\n",
        "from tensorflow.keras.layers import Dropout"
      ],
      "metadata": {
        "id": "P6UbtqRg88R8"
      },
      "execution_count": 17,
      "outputs": []
    },
    {
      "cell_type": "markdown",
      "source": [
        "Initializing the Model"
      ],
      "metadata": {
        "id": "kqPyZ9o29iwr"
      }
    },
    {
      "cell_type": "code",
      "source": [
        "model=Sequential()\n"
      ],
      "metadata": {
        "id": "Xp5s4Ju59kHF"
      },
      "execution_count": 18,
      "outputs": []
    },
    {
      "cell_type": "markdown",
      "source": [
        "Creating the Model\n",
        "\n"
      ],
      "metadata": {
        "id": "qPGwzmAY9pAz"
      }
    },
    {
      "cell_type": "code",
      "source": [
        "model.add(Conv2D(32,(3,3),activation=\"relu\",strides=(1,1),input_shape=(64,64,3)))\n"
      ],
      "metadata": {
        "id": "pSzl_biH9sJS"
      },
      "execution_count": 19,
      "outputs": []
    },
    {
      "cell_type": "code",
      "source": [
        "model.add(MaxPooling2D(pool_size=(2,2)))\n"
      ],
      "metadata": {
        "id": "O-JkVezu9x3r"
      },
      "execution_count": 20,
      "outputs": []
    },
    {
      "cell_type": "code",
      "source": [
        "model.add(Flatten())\n"
      ],
      "metadata": {
        "id": "7_dBRlqj90Pr"
      },
      "execution_count": 21,
      "outputs": []
    },
    {
      "cell_type": "code",
      "source": [
        "model.add(Dense(300,activation=\"relu\"))\n",
        "model.add(Dense(300,activation=\"relu\"))"
      ],
      "metadata": {
        "id": "VdTuOcWA93Tb"
      },
      "execution_count": 22,
      "outputs": []
    },
    {
      "cell_type": "code",
      "source": [
        "model.add(Dense(5,activation=\"softmax\"))\n"
      ],
      "metadata": {
        "id": "3LZtLbON965z"
      },
      "execution_count": 23,
      "outputs": []
    },
    {
      "cell_type": "code",
      "source": [
        "model.summary()\n"
      ],
      "metadata": {
        "colab": {
          "base_uri": "https://localhost:8080/"
        },
        "id": "qiKx3AGy98_u",
        "outputId": "1efe8d5f-f848-481e-bfcf-64f90fba5ccb"
      },
      "execution_count": 24,
      "outputs": [
        {
          "output_type": "stream",
          "name": "stdout",
          "text": [
            "Model: \"sequential\"\n",
            "_________________________________________________________________\n",
            " Layer (type)                Output Shape              Param #   \n",
            "=================================================================\n",
            " conv2d (Conv2D)             (None, 62, 62, 32)        896       \n",
            "                                                                 \n",
            " max_pooling2d (MaxPooling2D  (None, 31, 31, 32)       0         \n",
            " )                                                               \n",
            "                                                                 \n",
            " flatten (Flatten)           (None, 30752)             0         \n",
            "                                                                 \n",
            " dense (Dense)               (None, 300)               9225900   \n",
            "                                                                 \n",
            " dense_1 (Dense)             (None, 300)               90300     \n",
            "                                                                 \n",
            " dense_2 (Dense)             (None, 5)                 1505      \n",
            "                                                                 \n",
            "=================================================================\n",
            "Total params: 9,318,601\n",
            "Trainable params: 9,318,601\n",
            "Non-trainable params: 0\n",
            "_________________________________________________________________\n"
          ]
        }
      ]
    },
    {
      "cell_type": "code",
      "source": [
        "model.add(Dense(300,activation='relu'))\n",
        "model.add(Dense(300,activation='relu'))"
      ],
      "metadata": {
        "id": "Is4nQOKk-DX0"
      },
      "execution_count": 25,
      "outputs": []
    },
    {
      "cell_type": "code",
      "source": [
        "model.add(Dense(4,activation='softmax'))\n"
      ],
      "metadata": {
        "id": "3jOdlo8m-F5d"
      },
      "execution_count": 26,
      "outputs": []
    },
    {
      "cell_type": "code",
      "source": [
        "model.compile(loss=\"categorical_crossentropy\",optimizer=\"adam\",metrics=['accuracy'])\n"
      ],
      "metadata": {
        "id": "_IzIDr9V-IX1"
      },
      "execution_count": 27,
      "outputs": []
    },
    {
      "cell_type": "code",
      "source": [
        "len(x_train)\n"
      ],
      "metadata": {
        "id": "32yn0R66-Q4Q"
      },
      "execution_count": null,
      "outputs": []
    },
    {
      "cell_type": "markdown",
      "source": [
        "110"
      ],
      "metadata": {
        "id": "c150fA72-TkC"
      }
    },
    {
      "cell_type": "code",
      "source": [
        "model.fit(x_train,epochs=10,steps_per_epoch=len(x_train),validation_data=x_test,validation_steps=len(x_test))\n"
      ],
      "metadata": {
        "id": "Tq7rjdyU-bAD"
      },
      "execution_count": null,
      "outputs": []
    },
    {
      "cell_type": "markdown",
      "source": [
        "Epoch 1/10\n",
        "110/110 [==============================] - 28s 246ms/step - loss: 1.6052 - accuracy: 0.2201 - val_loss: 8.1187 - val_accuracy: 0.0000e+00\n",
        "Epoch 2/10\n",
        "110/110 [==============================] - 23s 205ms/step - loss: 1.6019 - accuracy: 0.2334 - val_loss: 8.0633 - val_accuracy: 0.0000e+00\n",
        "Epoch 3/10\n",
        "110/110 [==============================] - 22s 200ms/step - loss: 1.6028 - accuracy: 0.2323 - val_loss: 8.0994 - val_accuracy: 0.0000e+00\n",
        "Epoch 4/10\n",
        "110/110 [==============================] - 22s 201ms/step - loss: 1.6019 - accuracy: 0.2289 - val_loss: 8.0964 - val_accuracy: 0.0000e+00\n",
        "Epoch 5/10\n",
        "110/110 [==============================] - 22s 198ms/step - loss: 1.6014 - accuracy: 0.2353 - val_loss: 8.0687 - val_accuracy: 0.0000e+00\n",
        "Epoch 6/10\n",
        "110/110 [==============================] - 22s 200ms/step - loss: 1.6012 - accuracy: 0.2357 - val_loss: 8.0986 - val_accuracy: 0.0000e+00\n",
        "Epoch 7/10\n",
        "110/110 [==============================] - 22s 201ms/step - loss: 1.6013 - accuracy: 0.2365 - val_loss: 8.0850 - val_accuracy: 0.0000e+00\n",
        "Epoch 8/10\n",
        "110/110 [==============================] - 22s 200ms/step - loss: 1.6011 - accuracy: 0.2315 - val_loss: 8.0819 - val_accuracy: 0.0000e+00\n",
        "Epoch 9/10\n",
        "110/110 [==============================] - 22s 203ms/step - loss: 1.6011 - accuracy: 0.2372 - val_loss: 8.1111 - val_accuracy: 0.0000e+00\n",
        "Epoch 10/10\n",
        "110/110 [==============================] - 22s 201ms/step - loss: 1.6012 - accuracy: 0.2365 - val_loss: 8.0865 - val_accuracy: 0.0000e+00\n"
      ],
      "metadata": {
        "id": "Fl9pqXep-dYT"
      }
    },
    {
      "cell_type": "markdown",
      "source": [
        "Saving the Model\n",
        "\n"
      ],
      "metadata": {
        "id": "Atmh67eI-kXr"
      }
    },
    {
      "cell_type": "code",
      "source": [
        "model.save('train.h5')\n"
      ],
      "metadata": {
        "id": "QOG8LnWq-pCX"
      },
      "execution_count": 30,
      "outputs": []
    },
    {
      "cell_type": "code",
      "source": [
        "model.save('dataset.h5')\n"
      ],
      "metadata": {
        "id": "w_6c_JCa-rzW"
      },
      "execution_count": 31,
      "outputs": []
    },
    {
      "cell_type": "code",
      "source": [
        "model.save('fruits.h5')\n"
      ],
      "metadata": {
        "id": "STPVWrF1-uHg"
      },
      "execution_count": 32,
      "outputs": []
    },
    {
      "cell_type": "markdown",
      "source": [
        "Testing the Model"
      ],
      "metadata": {
        "id": "1mbBZKic-wXG"
      }
    },
    {
      "cell_type": "code",
      "source": [
        "import numpy as np\n",
        "from tensorflow.keras.models import load_model\n",
        "from tensorflow.keras.preprocessing import image"
      ],
      "metadata": {
        "id": "mXqJdV7l-yc3"
      },
      "execution_count": 33,
      "outputs": []
    },
    {
      "cell_type": "code",
      "source": [
        "model=load_model('fruits.h5')"
      ],
      "metadata": {
        "id": "RxhDEJfT-2NX"
      },
      "execution_count": 34,
      "outputs": []
    },
    {
      "cell_type": "code",
      "source": [
        "model=load_model('train.h5')\n"
      ],
      "metadata": {
        "id": "qSvY1rmy-5_8"
      },
      "execution_count": 35,
      "outputs": []
    },
    {
      "cell_type": "code",
      "source": [
        "model=load_model('dataset.h5')\n"
      ],
      "metadata": {
        "id": "mL-I3SKF-9D1"
      },
      "execution_count": 36,
      "outputs": []
    },
    {
      "cell_type": "code",
      "source": [
        "img=image.load_img(r\"/content/drive/MyDrive/CNN/Dataset/TEST_SET/PINEAPPLE/125_100.jpg\")\n"
      ],
      "metadata": {
        "id": "n6fj_FfB-8mr"
      },
      "execution_count": null,
      "outputs": []
    },
    {
      "cell_type": "code",
      "source": [
        "img"
      ],
      "metadata": {
        "id": "iKIm_Uwx_N1T"
      },
      "execution_count": null,
      "outputs": []
    },
    {
      "cell_type": "code",
      "source": [
        "img=image.load_img(r\"/content/drive/MyDrive/CNN/Dataset/TEST_SET/PINEAPPLE/125_100.jpg\",target_size=(64,64))\n"
      ],
      "metadata": {
        "id": "6cSoKVRoBqIm"
      },
      "execution_count": null,
      "outputs": []
    },
    {
      "cell_type": "code",
      "source": [
        "img\n"
      ],
      "metadata": {
        "id": "oR2H8YGUCDrr"
      },
      "execution_count": null,
      "outputs": []
    },
    {
      "cell_type": "code",
      "source": [
        "x=image.img_to_array(img)\n"
      ],
      "metadata": {
        "id": "FKRcSUjvCIir"
      },
      "execution_count": null,
      "outputs": []
    },
    {
      "cell_type": "code",
      "source": [
        "x"
      ],
      "metadata": {
        "id": "8hn6Fa-ADfXT"
      },
      "execution_count": null,
      "outputs": []
    },
    {
      "cell_type": "markdown",
      "source": [
        "array([[[255., 255., 255.],\n",
        "        [255., 255., 255.],\n",
        "        [255., 255., 255.],\n",
        "        ...,\n",
        "        [255., 255., 255.],\n",
        "        [255., 255., 255.],\n",
        "        [255., 255., 255.]],\n",
        "\n",
        "       [[255., 255., 255.],\n",
        "        [255., 255., 255.],\n",
        "        [255., 255., 255.],\n",
        "        ...,\n",
        "        [255., 255., 255.],\n",
        "        [255., 255., 255.],\n",
        "        [255., 255., 255.]],\n",
        "\n",
        "       [[255., 255., 255.],\n",
        "        [255., 255., 255.],\n",
        "        [255., 255., 255.],\n",
        "        ...,\n",
        "        [255., 255., 255.],\n",
        "        [255., 255., 255.],\n",
        "        [255., 255., 255.]],\n",
        "\n",
        "       ...,\n",
        "\n",
        "       [[255., 255., 255.],\n",
        "        [255., 255., 255.],\n",
        "        [255., 255., 255.],\n",
        "        ...,\n",
        "        [255., 255., 255.],\n",
        "        [255., 255., 255.],\n",
        "        [255., 255., 255.]],\n",
        "\n",
        "       [[255., 255., 255.],\n",
        "        [255., 255., 255.],\n",
        "        [255., 255., 255.],\n",
        "        ...,\n",
        "        [255., 255., 255.],\n",
        "        [255., 255., 255.],\n",
        "        [255., 255., 255.]],\n",
        "\n",
        "       [[255., 255., 255.],\n",
        "        [255., 255., 255.],\n",
        "        [255., 255., 255.],\n",
        "        ...,\n",
        "        [255., 255., 255.],\n",
        "        [255., 255., 255.],\n",
        "        [255., 255., 255.]]], dtype=float32)"
      ],
      "metadata": {
        "id": "V5UZpkirDhUD"
      }
    },
    {
      "cell_type": "markdown",
      "source": [],
      "metadata": {
        "id": "RK08fDnF9wCL"
      }
    },
    {
      "cell_type": "markdown",
      "source": [],
      "metadata": {
        "id": "CNPieWjd5sac"
      }
    },
    {
      "cell_type": "code",
      "source": [
        "pred = model.predict\n"
      ],
      "metadata": {
        "id": "MSb45uO3F387"
      },
      "execution_count": 43,
      "outputs": []
    },
    {
      "cell_type": "code",
      "source": [
        "pred"
      ],
      "metadata": {
        "colab": {
          "base_uri": "https://localhost:8080/"
        },
        "id": "bWvANMyZF8WL",
        "outputId": "4aaeb6be-64c2-4989-c2c2-f4773addb369"
      },
      "execution_count": 44,
      "outputs": [
        {
          "output_type": "execute_result",
          "data": {
            "text/plain": [
              "<bound method Model.predict of <keras.engine.sequential.Sequential object at 0x7f1fbd300110>>"
            ]
          },
          "metadata": {},
          "execution_count": 44
        }
      ]
    },
    {
      "cell_type": "code",
      "source": [
        "predict_x=model.predict(x_test) \n",
        "classes_x=np.argmax(predict_x,axis=1)"
      ],
      "metadata": {
        "id": "A-VD1v7SGF2M"
      },
      "execution_count": null,
      "outputs": []
    },
    {
      "cell_type": "markdown",
      "source": [
        "44/44 [==============================] - 3s 67ms/step\n"
      ],
      "metadata": {
        "id": "-YJFz9jyGHpy"
      }
    },
    {
      "cell_type": "code",
      "source": [
        "predict_x\n"
      ],
      "metadata": {
        "id": "s50Z5ReZGJXC"
      },
      "execution_count": null,
      "outputs": []
    },
    {
      "cell_type": "markdown",
      "source": [
        "array([[0.22595379, 0.17237951, 0.18204266, 0.234894  , 0.18473   ],\n",
        "       [0.22595379, 0.17237951, 0.18204266, 0.234894  , 0.18473   ],\n",
        "       [0.22595379, 0.17237951, 0.18204266, 0.234894  , 0.18473   ],\n",
        "       ...,\n",
        "       [0.22595382, 0.17237952, 0.18204266, 0.23489404, 0.18473   ],\n",
        "       [0.22595382, 0.17237952, 0.18204266, 0.23489404, 0.18473   ],\n",
        "       [0.22595382, 0.17237952, 0.18204267, 0.23489404, 0.18473   ]],\n",
        "      dtype=float32)"
      ],
      "metadata": {
        "id": "bUlSPe2gGV8T"
      }
    },
    {
      "cell_type": "code",
      "source": [
        "classes_x"
      ],
      "metadata": {
        "id": "YBpf0dUDGsiN"
      },
      "execution_count": null,
      "outputs": []
    },
    {
      "cell_type": "markdown",
      "source": [
        "array([3, 3, 3, ..., 3, 3, 3])\n"
      ],
      "metadata": {
        "id": "u3iV4-9oGu3t"
      }
    },
    {
      "cell_type": "code",
      "source": [
        "x_test.class_indices\n"
      ],
      "metadata": {
        "id": "_b0XsD3vG1zc"
      },
      "execution_count": null,
      "outputs": []
    },
    {
      "cell_type": "markdown",
      "source": [
        "{'TEST_SET': 0}\n"
      ],
      "metadata": {
        "id": "Gst1KGMBG4BF"
      }
    },
    {
      "cell_type": "code",
      "source": [
        "index=['APPLE','BANANA','ORANGE','PINEAPPLE','WATERMELON']\n"
      ],
      "metadata": {
        "id": "4oOWalrcG6Et"
      },
      "execution_count": 49,
      "outputs": []
    },
    {
      "cell_type": "code",
      "source": [
        "result=str(index[classes_x[0]])\n"
      ],
      "metadata": {
        "id": "7LBrwPSfHDUV"
      },
      "execution_count": null,
      "outputs": []
    },
    {
      "cell_type": "code",
      "source": [
        "result"
      ],
      "metadata": {
        "id": "N1YlsxpbHRLA"
      },
      "execution_count": null,
      "outputs": []
    },
    {
      "cell_type": "code",
      "source": [
        "'PINEAPPLE'"
      ],
      "metadata": {
        "colab": {
          "base_uri": "https://localhost:8080/",
          "height": 36
        },
        "id": "fkpMC8sBHSuy",
        "outputId": "1fde17f5-ed80-45d0-92a5-79a2be24c2f0"
      },
      "execution_count": 52,
      "outputs": [
        {
          "output_type": "execute_result",
          "data": {
            "text/plain": [
              "'PINEAPPLE'"
            ],
            "application/vnd.google.colaboratory.intrinsic+json": {
              "type": "string"
            }
          },
          "metadata": {},
          "execution_count": 52
        }
      ]
    }
  ]
}